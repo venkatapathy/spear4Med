{
  "nbformat": 4,
  "nbformat_minor": 0,
  "metadata": {
    "colab": {
      "provenance": [],
      "collapsed_sections": []
    },
    "kernelspec": {
      "name": "python3",
      "display_name": "Python 3"
    },
    "language_info": {
      "name": "python"
    }
  },
  "cells": [
    {
      "cell_type": "code",
      "execution_count": null,
      "metadata": {
        "colab": {
          "base_uri": "https://localhost:8080/",
          "height": 1000
        },
        "id": "f3r0ksV-s90e",
        "outputId": "1b767287-b2dd-4204-aff1-af26776357d1"
      },
      "outputs": [
        {
          "output_type": "stream",
          "name": "stdout",
          "text": [
            "Looking in indexes: https://pypi.org/simple, https://us-python.pkg.dev/colab-wheels/public/simple/\n",
            "Collecting decile-spear\n",
            "  Downloading decile_spear-1.0.6-py3-none-any.whl (72 kB)\n",
            "\u001b[K     |████████████████████████████████| 72 kB 418 kB/s \n",
            "\u001b[?25hCollecting matplotlib>=3.3.4\n",
            "  Downloading matplotlib-3.5.3-cp37-cp37m-manylinux_2_5_x86_64.manylinux1_x86_64.whl (11.2 MB)\n",
            "\u001b[K     |████████████████████████████████| 11.2 MB 62.5 MB/s \n",
            "\u001b[?25hRequirement already satisfied: torch>=1.8.0 in /usr/local/lib/python3.7/dist-packages (from decile-spear) (1.12.1+cu113)\n",
            "Requirement already satisfied: scikit-learn>=0.24.2 in /usr/local/lib/python3.7/dist-packages (from decile-spear) (1.0.2)\n",
            "Requirement already satisfied: pandas>=1.1.5 in /usr/local/lib/python3.7/dist-packages (from decile-spear) (1.3.5)\n",
            "Requirement already satisfied: scipy>=1.5.4 in /usr/local/lib/python3.7/dist-packages (from decile-spear) (1.7.3)\n",
            "Requirement already satisfied: tensorflow>=2.2.0 in /usr/local/lib/python3.7/dist-packages (from decile-spear) (2.8.2+zzzcolab20220719082949)\n",
            "Requirement already satisfied: tqdm>=4.59.0 in /usr/local/lib/python3.7/dist-packages (from decile-spear) (4.64.1)\n",
            "Requirement already satisfied: numpy>=1.19.5 in /usr/local/lib/python3.7/dist-packages (from decile-spear) (1.21.6)\n",
            "Requirement already satisfied: cycler>=0.10 in /usr/local/lib/python3.7/dist-packages (from matplotlib>=3.3.4->decile-spear) (0.11.0)\n",
            "Requirement already satisfied: pyparsing>=2.2.1 in /usr/local/lib/python3.7/dist-packages (from matplotlib>=3.3.4->decile-spear) (3.0.9)\n",
            "Collecting fonttools>=4.22.0\n",
            "  Downloading fonttools-4.37.4-py3-none-any.whl (960 kB)\n",
            "\u001b[K     |████████████████████████████████| 960 kB 67.9 MB/s \n",
            "\u001b[?25hRequirement already satisfied: python-dateutil>=2.7 in /usr/local/lib/python3.7/dist-packages (from matplotlib>=3.3.4->decile-spear) (2.8.2)\n",
            "Requirement already satisfied: packaging>=20.0 in /usr/local/lib/python3.7/dist-packages (from matplotlib>=3.3.4->decile-spear) (21.3)\n",
            "Requirement already satisfied: kiwisolver>=1.0.1 in /usr/local/lib/python3.7/dist-packages (from matplotlib>=3.3.4->decile-spear) (1.4.4)\n",
            "Requirement already satisfied: pillow>=6.2.0 in /usr/local/lib/python3.7/dist-packages (from matplotlib>=3.3.4->decile-spear) (7.1.2)\n",
            "Requirement already satisfied: typing-extensions in /usr/local/lib/python3.7/dist-packages (from kiwisolver>=1.0.1->matplotlib>=3.3.4->decile-spear) (4.1.1)\n",
            "Requirement already satisfied: pytz>=2017.3 in /usr/local/lib/python3.7/dist-packages (from pandas>=1.1.5->decile-spear) (2022.2.1)\n",
            "Requirement already satisfied: six>=1.5 in /usr/local/lib/python3.7/dist-packages (from python-dateutil>=2.7->matplotlib>=3.3.4->decile-spear) (1.15.0)\n",
            "Requirement already satisfied: threadpoolctl>=2.0.0 in /usr/local/lib/python3.7/dist-packages (from scikit-learn>=0.24.2->decile-spear) (3.1.0)\n",
            "Requirement already satisfied: joblib>=0.11 in /usr/local/lib/python3.7/dist-packages (from scikit-learn>=0.24.2->decile-spear) (1.1.0)\n",
            "Requirement already satisfied: tensorboard<2.9,>=2.8 in /usr/local/lib/python3.7/dist-packages (from tensorflow>=2.2.0->decile-spear) (2.8.0)\n",
            "Requirement already satisfied: tensorflow-estimator<2.9,>=2.8 in /usr/local/lib/python3.7/dist-packages (from tensorflow>=2.2.0->decile-spear) (2.8.0)\n",
            "Requirement already satisfied: keras<2.9,>=2.8.0rc0 in /usr/local/lib/python3.7/dist-packages (from tensorflow>=2.2.0->decile-spear) (2.8.0)\n",
            "Requirement already satisfied: grpcio<2.0,>=1.24.3 in /usr/local/lib/python3.7/dist-packages (from tensorflow>=2.2.0->decile-spear) (1.48.1)\n",
            "Requirement already satisfied: opt-einsum>=2.3.2 in /usr/local/lib/python3.7/dist-packages (from tensorflow>=2.2.0->decile-spear) (3.3.0)\n",
            "Requirement already satisfied: astunparse>=1.6.0 in /usr/local/lib/python3.7/dist-packages (from tensorflow>=2.2.0->decile-spear) (1.6.3)\n",
            "Requirement already satisfied: termcolor>=1.1.0 in /usr/local/lib/python3.7/dist-packages (from tensorflow>=2.2.0->decile-spear) (1.1.0)\n",
            "Requirement already satisfied: gast>=0.2.1 in /usr/local/lib/python3.7/dist-packages (from tensorflow>=2.2.0->decile-spear) (0.5.3)\n",
            "Requirement already satisfied: absl-py>=0.4.0 in /usr/local/lib/python3.7/dist-packages (from tensorflow>=2.2.0->decile-spear) (1.2.0)\n",
            "Requirement already satisfied: tensorflow-io-gcs-filesystem>=0.23.1 in /usr/local/lib/python3.7/dist-packages (from tensorflow>=2.2.0->decile-spear) (0.26.0)\n",
            "Requirement already satisfied: libclang>=9.0.1 in /usr/local/lib/python3.7/dist-packages (from tensorflow>=2.2.0->decile-spear) (14.0.6)\n",
            "Requirement already satisfied: wrapt>=1.11.0 in /usr/local/lib/python3.7/dist-packages (from tensorflow>=2.2.0->decile-spear) (1.14.1)\n",
            "Requirement already satisfied: protobuf<3.20,>=3.9.2 in /usr/local/lib/python3.7/dist-packages (from tensorflow>=2.2.0->decile-spear) (3.17.3)\n",
            "Requirement already satisfied: h5py>=2.9.0 in /usr/local/lib/python3.7/dist-packages (from tensorflow>=2.2.0->decile-spear) (3.1.0)\n",
            "Requirement already satisfied: setuptools in /usr/local/lib/python3.7/dist-packages (from tensorflow>=2.2.0->decile-spear) (57.4.0)\n",
            "Requirement already satisfied: flatbuffers>=1.12 in /usr/local/lib/python3.7/dist-packages (from tensorflow>=2.2.0->decile-spear) (2.0.7)\n",
            "Requirement already satisfied: keras-preprocessing>=1.1.1 in /usr/local/lib/python3.7/dist-packages (from tensorflow>=2.2.0->decile-spear) (1.1.2)\n",
            "Requirement already satisfied: google-pasta>=0.1.1 in /usr/local/lib/python3.7/dist-packages (from tensorflow>=2.2.0->decile-spear) (0.2.0)\n",
            "Requirement already satisfied: wheel<1.0,>=0.23.0 in /usr/local/lib/python3.7/dist-packages (from astunparse>=1.6.0->tensorflow>=2.2.0->decile-spear) (0.37.1)\n",
            "Requirement already satisfied: cached-property in /usr/local/lib/python3.7/dist-packages (from h5py>=2.9.0->tensorflow>=2.2.0->decile-spear) (1.5.2)\n",
            "Requirement already satisfied: markdown>=2.6.8 in /usr/local/lib/python3.7/dist-packages (from tensorboard<2.9,>=2.8->tensorflow>=2.2.0->decile-spear) (3.4.1)\n",
            "Requirement already satisfied: google-auth-oauthlib<0.5,>=0.4.1 in /usr/local/lib/python3.7/dist-packages (from tensorboard<2.9,>=2.8->tensorflow>=2.2.0->decile-spear) (0.4.6)\n",
            "Requirement already satisfied: tensorboard-data-server<0.7.0,>=0.6.0 in /usr/local/lib/python3.7/dist-packages (from tensorboard<2.9,>=2.8->tensorflow>=2.2.0->decile-spear) (0.6.1)\n",
            "Requirement already satisfied: werkzeug>=0.11.15 in /usr/local/lib/python3.7/dist-packages (from tensorboard<2.9,>=2.8->tensorflow>=2.2.0->decile-spear) (1.0.1)\n",
            "Requirement already satisfied: requests<3,>=2.21.0 in /usr/local/lib/python3.7/dist-packages (from tensorboard<2.9,>=2.8->tensorflow>=2.2.0->decile-spear) (2.23.0)\n",
            "Requirement already satisfied: tensorboard-plugin-wit>=1.6.0 in /usr/local/lib/python3.7/dist-packages (from tensorboard<2.9,>=2.8->tensorflow>=2.2.0->decile-spear) (1.8.1)\n",
            "Requirement already satisfied: google-auth<3,>=1.6.3 in /usr/local/lib/python3.7/dist-packages (from tensorboard<2.9,>=2.8->tensorflow>=2.2.0->decile-spear) (1.35.0)\n",
            "Requirement already satisfied: pyasn1-modules>=0.2.1 in /usr/local/lib/python3.7/dist-packages (from google-auth<3,>=1.6.3->tensorboard<2.9,>=2.8->tensorflow>=2.2.0->decile-spear) (0.2.8)\n",
            "Requirement already satisfied: rsa<5,>=3.1.4 in /usr/local/lib/python3.7/dist-packages (from google-auth<3,>=1.6.3->tensorboard<2.9,>=2.8->tensorflow>=2.2.0->decile-spear) (4.9)\n",
            "Requirement already satisfied: cachetools<5.0,>=2.0.0 in /usr/local/lib/python3.7/dist-packages (from google-auth<3,>=1.6.3->tensorboard<2.9,>=2.8->tensorflow>=2.2.0->decile-spear) (4.2.4)\n",
            "Requirement already satisfied: requests-oauthlib>=0.7.0 in /usr/local/lib/python3.7/dist-packages (from google-auth-oauthlib<0.5,>=0.4.1->tensorboard<2.9,>=2.8->tensorflow>=2.2.0->decile-spear) (1.3.1)\n",
            "Requirement already satisfied: importlib-metadata>=4.4 in /usr/local/lib/python3.7/dist-packages (from markdown>=2.6.8->tensorboard<2.9,>=2.8->tensorflow>=2.2.0->decile-spear) (4.12.0)\n",
            "Requirement already satisfied: zipp>=0.5 in /usr/local/lib/python3.7/dist-packages (from importlib-metadata>=4.4->markdown>=2.6.8->tensorboard<2.9,>=2.8->tensorflow>=2.2.0->decile-spear) (3.8.1)\n",
            "Requirement already satisfied: pyasn1<0.5.0,>=0.4.6 in /usr/local/lib/python3.7/dist-packages (from pyasn1-modules>=0.2.1->google-auth<3,>=1.6.3->tensorboard<2.9,>=2.8->tensorflow>=2.2.0->decile-spear) (0.4.8)\n",
            "Requirement already satisfied: chardet<4,>=3.0.2 in /usr/local/lib/python3.7/dist-packages (from requests<3,>=2.21.0->tensorboard<2.9,>=2.8->tensorflow>=2.2.0->decile-spear) (3.0.4)\n",
            "Requirement already satisfied: urllib3!=1.25.0,!=1.25.1,<1.26,>=1.21.1 in /usr/local/lib/python3.7/dist-packages (from requests<3,>=2.21.0->tensorboard<2.9,>=2.8->tensorflow>=2.2.0->decile-spear) (1.24.3)\n",
            "Requirement already satisfied: idna<3,>=2.5 in /usr/local/lib/python3.7/dist-packages (from requests<3,>=2.21.0->tensorboard<2.9,>=2.8->tensorflow>=2.2.0->decile-spear) (2.10)\n",
            "Requirement already satisfied: certifi>=2017.4.17 in /usr/local/lib/python3.7/dist-packages (from requests<3,>=2.21.0->tensorboard<2.9,>=2.8->tensorflow>=2.2.0->decile-spear) (2022.6.15)\n",
            "Requirement already satisfied: oauthlib>=3.0.0 in /usr/local/lib/python3.7/dist-packages (from requests-oauthlib>=0.7.0->google-auth-oauthlib<0.5,>=0.4.1->tensorboard<2.9,>=2.8->tensorflow>=2.2.0->decile-spear) (3.2.0)\n",
            "Installing collected packages: fonttools, matplotlib, decile-spear\n",
            "  Attempting uninstall: matplotlib\n",
            "    Found existing installation: matplotlib 3.2.2\n",
            "    Uninstalling matplotlib-3.2.2:\n",
            "      Successfully uninstalled matplotlib-3.2.2\n",
            "Successfully installed decile-spear-1.0.6 fonttools-4.37.4 matplotlib-3.5.3\n"
          ]
        },
        {
          "output_type": "display_data",
          "data": {
            "application/vnd.colab-display-data+json": {
              "pip_warning": {
                "packages": [
                  "matplotlib",
                  "mpl_toolkits"
                ]
              }
            }
          },
          "metadata": {}
        }
      ],
      "source": [
        " !pip install decile-spear"
      ]
    },
    {
      "cell_type": "code",
      "source": [
        "from google.colab import drive\n",
        "drive.mount('/content/drive')"
      ],
      "metadata": {
        "colab": {
          "base_uri": "https://localhost:8080/"
        },
        "id": "4WHVowIanOSU",
        "outputId": "6a954009-02fc-4814-887f-12857f53affa"
      },
      "execution_count": null,
      "outputs": [
        {
          "output_type": "stream",
          "name": "stdout",
          "text": [
            "Mounted at /content/drive\n"
          ]
        }
      ]
    },
    {
      "cell_type": "markdown",
      "source": [
        "# Imports"
      ],
      "metadata": {
        "id": "LQ7x4-wkd4_u"
      }
    },
    {
      "cell_type": "code",
      "source": [
        "from spear.labeling import labeling_function, ABSTAIN, preprocessor\n",
        "import enum\n",
        "import os \n",
        "import uuid\n",
        "import numpy as np\n",
        "import cv2\n",
        "from google.colab.patches import cv2_imshow\n",
        "import json"
      ],
      "metadata": {
        "id": "Fke1oiz5Z-Us"
      },
      "execution_count": null,
      "outputs": []
    },
    {
      "cell_type": "markdown",
      "source": [
        "# Preprocessing Functions"
      ],
      "metadata": {
        "id": "WBcYxrP5eR6O"
      }
    },
    {
      "cell_type": "code",
      "source": [
        "def segment_patch(filename):\n",
        "    unique_file = filename[:-4] + str(uuid.uuid4())+\".jpg\"\n",
        "    os.system(f'python3 /content/drive/MyDrive/HL/demo.py --input {filename} --output {unique_file} --maxIter 1000 --minLabels 2')\n",
        "    return unique_file"
      ],
      "metadata": {
        "id": "nJPFmYJWd2-m"
      },
      "execution_count": null,
      "outputs": []
    },
    {
      "cell_type": "code",
      "source": [
        "def contour_patch(og_patch,segmented_patch):\n",
        "  img = cv2.imread(segmented_patch, cv2.IMREAD_UNCHANGED)\n",
        "  img_grey = cv2.cvtColor(img,cv2.COLOR_BGR2GRAY)\n",
        "  thresh = 176\n",
        "  ret,thresh_img = cv2.threshold(img_grey, thresh, 255, cv2.THRESH_BINARY)\n",
        "  contours, hierarchy = cv2.findContours(thresh_img, cv2.RETR_TREE, cv2.CHAIN_APPROX_SIMPLE)\n",
        "  boxes = []\n",
        "  new_dir = \"/content/patches\"+segmented_patch[:-4][segmented_patch[:-4].rfind(\"/\"):]\n",
        "  try:\n",
        "    os.mkdir(new_dir) # -4 cause last 4 characters of extension are removed\n",
        "  except:\n",
        "    pass\n",
        "  og_img = cv2.imread(og_patch, cv2.IMREAD_UNCHANGED)\n",
        "  for i in range(len(contours)):\n",
        "    contour = contours[i]\n",
        "    x,y,w,h = cv2.boundingRect(contour)\n",
        "    boxes.append([x,y,w,h])\n",
        "    cropped_img = og_img[y:y+h, x:x+w]\n",
        "    # cv2_imshow(cropped_img)\n",
        "    cv2.imwrite(f\"{new_dir}/{i}.jpg\",cropped_img)\n",
        "  for box in boxes:\n",
        "    x,y,w,h = box\n",
        "    cv2.rectangle(og_img, (x, y), (x + w, y + h), (255,0,0), 4)\n",
        "    \n",
        "  cv2.imwrite(f\"{new_dir}.jpg\",og_img)\n",
        "  return new_dir,boxes"
      ],
      "metadata": {
        "id": "WGnobFV08wq7"
      },
      "execution_count": null,
      "outputs": []
    },
    {
      "cell_type": "code",
      "source": [
        "def preprocess(filename):\n",
        "  seg_file = segment_patch(filename)\n",
        "  new_dir,boxes = contour_patch(filename, seg_file)\n",
        "  return new_dir,boxes"
      ],
      "metadata": {
        "id": "HlZ7Y-5lBCas"
      },
      "execution_count": null,
      "outputs": []
    },
    {
      "cell_type": "code",
      "source": [
        "preprocess(\"/content/patch2.jpg\")"
      ],
      "metadata": {
        "colab": {
          "base_uri": "https://localhost:8080/",
          "height": 885
        },
        "id": "Q1NcSiMbp50d",
        "outputId": "26d97b04-39bd-4aa1-ada4-7e64bf4f81d8"
      },
      "execution_count": null,
      "outputs": [
        {
          "output_type": "display_data",
          "data": {
            "text/plain": [
              "<PIL.Image.Image image mode=RGB size=8x7 at 0x7F13DCAABC10>"
            ],
            "image/png": "[encoded data removed]"
          },
          "metadata": {}
        },
        {
          "output_type": "display_data",
          "data": {
            "text/plain": [
              "<PIL.Image.Image image mode=RGB size=3x2 at 0x7F13DCAABC10>"
            ],
            "image/png": "[encoded data removed]"
          },
          "metadata": {}
        },
        {
          "output_type": "display_data",
          "data": {
            "text/plain": [
              "<PIL.Image.Image image mode=RGB size=1x1 at 0x7F13DC1CB910>"
            ],
            "image/png": "[encoded data removed]"
          },
          "metadata": {}
        },
        {
          "output_type": "display_data",
          "data": {
            "text/plain": [
              "<PIL.Image.Image image mode=RGB size=10x3 at 0x7F13DCAABC10>"
            ],
            "image/png": "[encoded data removed]"
          },
          "metadata": {}
        },
        {
          "output_type": "display_data",
          "data": {
            "text/plain": [
              "<PIL.Image.Image image mode=RGB size=2x2 at 0x7F13DCAABC10>"
            ],
            "image/png": "[encoded data removed]"
          },
          "metadata": {}
        },
        {
          "output_type": "display_data",
          "data": {
            "text/plain": [
              "<PIL.Image.Image image mode=RGB size=7x3 at 0x7F13DCAAB790>"
            ],
            "image/png": "[encoded data removed]"
          },
          "metadata": {}
        },
        {
          "output_type": "display_data",
          "data": {
            "text/plain": [
              "<PIL.Image.Image image mode=RGB size=1x1 at 0x7F13DC1C3CD0>"
            ],
            "image/png": "[encoded data removed]"
          },
          "metadata": {}
        },
        {
          "output_type": "display_data",
          "data": {
            "text/plain": [
              "<PIL.Image.Image image mode=RGB size=3x4 at 0x7F13DCAAB790>"
            ],
            "image/png": "[encoded data removed]"
          },
          "metadata": {}
        },
        {
          "output_type": "display_data",
          "data": {
            "text/plain": [
              "<PIL.Image.Image image mode=RGB size=4x1 at 0x7F13DCAB7190>"
            ],
            "image/png": "[encoded data removed]"
          },
          "metadata": {}
        },
        {
          "output_type": "display_data",
          "data": {
            "text/plain": [
              "<PIL.Image.Image image mode=RGB size=1x1 at 0x7F13DCAABE90>"
            ],
            "image/png": "[encoded data removed]"
          },
          "metadata": {}
        },
        {
          "output_type": "display_data",
          "data": {
            "text/plain": [
              "<PIL.Image.Image image mode=RGB size=1x1 at 0x7F13DCAABD90>"
            ],
            "image/png": "[encoded data removed]"
          },
          "metadata": {}
        },
        {
          "output_type": "display_data",
          "data": {
            "text/plain": [
              "<PIL.Image.Image image mode=RGB size=7x5 at 0x7F13DCAABF90>"
            ],
            "image/png": "[encoded data removed]"
          },
          "metadata": {}
        },
        {
          "output_type": "display_data",
          "data": {
            "text/plain": [
              "<PIL.Image.Image image mode=RGB size=6x4 at 0x7F13DCAABE90>"
            ],
            "image/png": "[encoded data removed]"
          },
          "metadata": {}
        },
        {
          "output_type": "display_data",
          "data": {
            "text/plain": [
              "<PIL.Image.Image image mode=RGB size=2x1 at 0x7F13DCAABD90>"
            ],
            "image/png": "[encoded data removed]"
          },
          "metadata": {}
        },
        {
          "output_type": "display_data",
          "data": {
            "text/plain": [
              "<PIL.Image.Image image mode=RGB size=4x3 at 0x7F13DC1DB750>"
            ],
            "image/png": "[encoded data removed]"
          },
          "metadata": {}
        },
        {
          "output_type": "display_data",
          "data": {
            "text/plain": [
              "<PIL.Image.Image image mode=RGB size=1x2 at 0x7F13DC1DB190>"
            ],
            "image/png": "[encoded data removed]"
          },
          "metadata": {}
        },
        {
          "output_type": "display_data",
          "data": {
            "text/plain": [
              "<PIL.Image.Image image mode=RGB size=8x6 at 0x7F13DC1DB790>"
            ],
            "image/png": "[encoded data removed]"
          },
          "metadata": {}
        },
        {
          "output_type": "display_data",
          "data": {
            "text/plain": [
              "<PIL.Image.Image image mode=RGB size=2x1 at 0x7F13DCAABC10>"
            ],
            "image/png": "[encoded data removed]"
          },
          "metadata": {}
        },
        {
          "output_type": "display_data",
          "data": {
            "text/plain": [
              "<PIL.Image.Image image mode=RGB size=2x1 at 0x7F13DCAABD90>"
            ],
            "image/png": "[encoded data removed]"
          },
          "metadata": {}
        },
        {
          "output_type": "display_data",
          "data": {
            "text/plain": [
              "<PIL.Image.Image image mode=RGB size=4x3 at 0x7F13DCAABE90>"
            ],
            "image/png": "[encoded data removed]"
          },
          "metadata": {}
        },
        {
          "output_type": "display_data",
          "data": {
            "text/plain": [
              "<PIL.Image.Image image mode=RGB size=12x9 at 0x7F13DCAAB790>"
            ],
            "image/png": "[encoded data removed]"
          },
          "metadata": {}
        },
        {
          "output_type": "display_data",
          "data": {
            "text/plain": [
              "<PIL.Image.Image image mode=RGB size=3x1 at 0x7F13DCAABF90>"
            ],
            "image/png": "[encoded data removed]"
          },
          "metadata": {}
        },
        {
          "output_type": "display_data",
          "data": {
            "text/plain": [
              "<PIL.Image.Image image mode=RGB size=6x4 at 0x7F13DCAABE90>"
            ],
            "image/png": "[encoded data removed]"
          },
          "metadata": {}
        },
        {
          "output_type": "display_data",
          "data": {
            "text/plain": [
              "<PIL.Image.Image image mode=RGB size=1x1 at 0x7F13DCAABD90>"
            ],
            "image/png": "[encoded data removed]"
          },
          "metadata": {}
        },
        {
          "output_type": "display_data",
          "data": {
            "text/plain": [
              "<PIL.Image.Image image mode=RGB size=3x4 at 0x7F13DCAABC10>"
            ],
            "image/png": "[encoded data removed]"
          },
          "metadata": {}
        },
        {
          "output_type": "display_data",
          "data": {
            "text/plain": [
              "<PIL.Image.Image image mode=RGB size=9x4 at 0x7F13DC1DBA50>"
            ],
            "image/png": "[encoded data removed]"
          },
          "metadata": {}
        },
        {
          "output_type": "display_data",
          "data": {
            "text/plain": [
              "<PIL.Image.Image image mode=RGB size=1x1 at 0x7F13DC1DBA90>"
            ],
            "image/png": "[encoded data removed]"
          },
          "metadata": {}
        },
        {
          "output_type": "display_data",
          "data": {
            "text/plain": [
              "<PIL.Image.Image image mode=RGB size=2x1 at 0x7F13DC1DBA90>"
            ],
            "image/png": "[encoded data removed]"
          },
          "metadata": {}
        },
        {
          "output_type": "display_data",
          "data": {
            "text/plain": [
              "<PIL.Image.Image image mode=RGB size=2x2 at 0x7F13DC1DB910>"
            ],
            "image/png": "[encoded data removed]"
          },
          "metadata": {}
        },
        {
          "output_type": "display_data",
          "data": {
            "text/plain": [
              "<PIL.Image.Image image mode=RGB size=4x3 at 0x7F13DC1DB9D0>"
            ],
            "image/png": "[encoded data removed]"
          },
          "metadata": {}
        },
        {
          "output_type": "display_data",
          "data": {
            "text/plain": [
              "<PIL.Image.Image image mode=RGB size=3x2 at 0x7F13DC1DB910>"
            ],
            "image/png": "[encoded data removed]"
          },
          "metadata": {}
        },
        {
          "output_type": "display_data",
          "data": {
            "text/plain": [
              "<PIL.Image.Image image mode=RGB size=3x4 at 0x7F13DC1DB9D0>"
            ],
            "image/png": "[encoded data removed]"
          },
          "metadata": {}
        },
        {
          "output_type": "display_data",
          "data": {
            "text/plain": [
              "<PIL.Image.Image image mode=RGB size=5x6 at 0x7F13DC1DB910>"
            ],
            "image/png": "[encoded data removed]"
          },
          "metadata": {}
        },
        {
          "output_type": "display_data",
          "data": {
            "text/plain": [
              "<PIL.Image.Image image mode=RGB size=4x3 at 0x7F13DC1DB9D0>"
            ],
            "image/png": "[encoded data removed]"
          },
          "metadata": {}
        },
        {
          "output_type": "display_data",
          "data": {
            "text/plain": [
              "<PIL.Image.Image image mode=RGB size=1x2 at 0x7F13DC1DB910>"
            ],
            "image/png": "[encoded data removed]"
          },
          "metadata": {}
        },
        {
          "output_type": "display_data",
          "data": {
            "text/plain": [
              "<PIL.Image.Image image mode=RGB size=1x1 at 0x7F13DC1DB9D0>"
            ],
            "image/png": "[encoded data removed]"
          },
          "metadata": {}
        },
        {
          "output_type": "display_data",
          "data": {
            "text/plain": [
              "<PIL.Image.Image image mode=RGB size=2x3 at 0x7F13DC1DB910>"
            ],
            "image/png": "[encoded data removed]"
          },
          "metadata": {}
        },
        {
          "output_type": "display_data",
          "data": {
            "text/plain": [
              "<PIL.Image.Image image mode=RGB size=3x2 at 0x7F13DC1DB9D0>"
            ],
            "image/png": "[encoded data removed]"
          },
          "metadata": {}
        },
        {
          "output_type": "display_data",
          "data": {
            "text/plain": [
              "<PIL.Image.Image image mode=RGB size=1x1 at 0x7F13DC1DB910>"
            ],
            "image/png": "[encoded data removed]"
          },
          "metadata": {}
        },
        {
          "output_type": "display_data",
          "data": {
            "text/plain": [
              "<PIL.Image.Image image mode=RGB size=1x1 at 0x7F13DC1DB9D0>"
            ],
            "image/png": "[encoded data removed]"
          },
          "metadata": {}
        },
        {
          "output_type": "display_data",
          "data": {
            "text/plain": [
              "<PIL.Image.Image image mode=RGB size=4x2 at 0x7F13DC1DB910>"
            ],
            "image/png": "[encoded data removed]"
          },
          "metadata": {}
        },
        {
          "output_type": "display_data",
          "data": {
            "text/plain": [
              "<PIL.Image.Image image mode=RGB size=1x6 at 0x7F13DC1DB9D0>"
            ],
            "image/png": "[encoded data removed]"
          },
          "metadata": {}
        },
        {
          "output_type": "display_data",
          "data": {
            "text/plain": [
              "<PIL.Image.Image image mode=RGB size=5x3 at 0x7F13DC1DB910>"
            ],
            "image/png": "[encoded data removed]"
          },
          "metadata": {}
        },
        {
          "output_type": "display_data",
          "data": {
            "text/plain": [
              "<PIL.Image.Image image mode=RGB size=5x3 at 0x7F13DC1DB9D0>"
            ],
            "image/png": "[encoded data removed]"
          },
          "metadata": {}
        },
        {
          "output_type": "display_data",
          "data": {
            "text/plain": [
              "<PIL.Image.Image image mode=RGB size=1x1 at 0x7F13DC1DB910>"
            ],
            "image/png": "[encoded data removed]"
          },
          "metadata": {}
        },
        {
          "output_type": "display_data",
          "data": {
            "text/plain": [
              "<PIL.Image.Image image mode=RGB size=8x5 at 0x7F13DC1DB9D0>"
            ],
            "image/png": "[encoded data removed]"
          },
          "metadata": {}
        },
        {
          "output_type": "display_data",
          "data": {
            "text/plain": [
              "<PIL.Image.Image image mode=RGB size=1x1 at 0x7F13DC1DB910>"
            ],
            "image/png": "[encoded data removed]"
          },
          "metadata": {}
        },
        {
          "output_type": "display_data",
          "data": {
            "text/plain": [
              "<PIL.Image.Image image mode=RGB size=15x12 at 0x7F13DC1DB9D0>"
            ],
            "image/png": "[encoded data removed]"
          },
          "metadata": {}
        },
        {
          "output_type": "display_data",
          "data": {
            "text/plain": [
              "<PIL.Image.Image image mode=RGB size=1x1 at 0x7F13DC1DB910>"
            ],
            "image/png": "[encoded data removed]"
          },
          "metadata": {}
        },
        {
          "output_type": "display_data",
          "data": {
            "text/plain": [
              "<PIL.Image.Image image mode=RGB size=5x1 at 0x7F13DC1DB9D0>"
            ],
            "image/png": "[encoded data removed]"
          },
          "metadata": {}
        }
      ]
    },
    {
      "cell_type": "code",
      "source": [
        "contour_patch(\"/content/patch2.jpg\",\"/content/patch2bbe6ddea-76c4-4e19-a12c-c964c182b184.jpg\")"
      ],
      "metadata": {
        "colab": {
          "base_uri": "https://localhost:8080/",
          "height": 1000
        },
        "id": "udOVgwMHFF75",
        "outputId": "d3526667-57e2-412d-c934-edff457515cd"
      },
      "execution_count": null,
      "outputs": [
        {
          "output_type": "display_data",
          "data": {
            "text/plain": [
              "<PIL.Image.Image image mode=RGB size=370x370 at 0x7F692A95D4D0>"
            ],
            "image/png": "[encoded data removed]"
          },
          "metadata": {}
        },
        {
          "output_type": "display_data",
          "data": {
            "text/plain": [
              "<PIL.Image.Image image mode=RGB size=4x3 at 0x7F692A95D4D0>"
            ],
            "image/png": "[encoded data removed]"
          },
          "metadata": {}
        },
        {
          "output_type": "display_data",
          "data": {
            "text/plain": [
              "<PIL.Image.Image image mode=RGB size=11x5 at 0x7F692A95D850>"
            ],
            "image/png": "[encoded data removed]"
          },
          "metadata": {}
        },
        {
          "output_type": "display_data",
          "data": {
            "text/plain": [
              "<PIL.Image.Image image mode=RGB size=3x3 at 0x7F692A95D9D0>"
            ],
            "image/png": "[encoded data removed]"
          },
          "metadata": {}
        },
        {
          "output_type": "display_data",
          "data": {
            "text/plain": [
              "<PIL.Image.Image image mode=RGB size=9x8 at 0x7F692A95DA50>"
            ],
            "image/png": "[encoded data removed]"
          },
          "metadata": {}
        },
        {
          "output_type": "display_data",
          "data": {
            "text/plain": [
              "<PIL.Image.Image image mode=RGB size=5x5 at 0x7F692A95DCD0>"
            ],
            "image/png": "[encoded data removed]"
          },
          "metadata": {}
        },
        {
          "output_type": "display_data",
          "data": {
            "text/plain": [
              "<PIL.Image.Image image mode=RGB size=5x6 at 0x7F692A95DE50>"
            ],
            "image/png": "[encoded data removed]"
          },
          "metadata": {}
        },
        {
          "output_type": "display_data",
          "data": {
            "text/plain": [
              "<PIL.Image.Image image mode=RGB size=17x18 at 0x7F692A95D850>"
            ],
            "image/png": "[encoded data removed]"
          },
          "metadata": {}
        },
        {
          "output_type": "display_data",
          "data": {
            "text/plain": [
              "<PIL.Image.Image image mode=RGB size=4x5 at 0x7F692A95D850>"
            ],
            "image/png": "[encoded data removed]"
          },
          "metadata": {}
        },
        {
          "output_type": "display_data",
          "data": {
            "text/plain": [
              "<PIL.Image.Image image mode=RGB size=14x17 at 0x7F692A95D9D0>"
            ],
            "image/png": "[encoded data removed]"
          },
          "metadata": {}
        },
        {
          "output_type": "display_data",
          "data": {
            "text/plain": [
              "<PIL.Image.Image image mode=RGB size=4x4 at 0x7F692A95DE50>"
            ],
            "image/png": "[encoded data removed]"
          },
          "metadata": {}
        },
        {
          "output_type": "display_data",
          "data": {
            "text/plain": [
              "<PIL.Image.Image image mode=RGB size=17x18 at 0x7F692A974C50>"
            ],
            "image/png": "[encoded data removed]"
          },
          "metadata": {}
        },
        {
          "output_type": "display_data",
          "data": {
            "text/plain": [
              "<PIL.Image.Image image mode=RGB size=12x17 at 0x7F692A974D90>"
            ],
            "image/png": "[encoded data removed]"
          },
          "metadata": {}
        },
        {
          "output_type": "display_data",
          "data": {
            "text/plain": [
              "<PIL.Image.Image image mode=RGB size=14x19 at 0x7F692A974550>"
            ],
            "image/png": "[encoded data removed]"
          },
          "metadata": {}
        },
        {
          "output_type": "display_data",
          "data": {
            "text/plain": [
              "<PIL.Image.Image image mode=RGB size=31x23 at 0x7F692A974290>"
            ],
            "image/png": "[encoded data removed]"
          },
          "metadata": {}
        },
        {
          "output_type": "display_data",
          "data": {
            "text/plain": [
              "<PIL.Image.Image image mode=RGB size=9x9 at 0x7F692A974290>"
            ],
            "image/png": "[encoded data removed]"
          },
          "metadata": {}
        },
        {
          "output_type": "display_data",
          "data": {
            "text/plain": [
              "<PIL.Image.Image image mode=RGB size=8x12 at 0x7F692A974290>"
            ],
            "image/png": "[encoded data removed]"
          },
          "metadata": {}
        },
        {
          "output_type": "display_data",
          "data": {
            "text/plain": [
              "<PIL.Image.Image image mode=RGB size=5x5 at 0x7F692A974990>"
            ],
            "image/png": "[encoded data removed]"
          },
          "metadata": {}
        },
        {
          "output_type": "display_data",
          "data": {
            "text/plain": [
              "<PIL.Image.Image image mode=RGB size=16x21 at 0x7F692A974990>"
            ],
            "image/png": "[encoded data removed]"
          },
          "metadata": {}
        },
        {
          "output_type": "display_data",
          "data": {
            "text/plain": [
              "<PIL.Image.Image image mode=RGB size=38x32 at 0x7F692A974F90>"
            ],
            "image/png": "[encoded data removed]"
          },
          "metadata": {}
        },
        {
          "output_type": "display_data",
          "data": {
            "text/plain": [
              "<PIL.Image.Image image mode=RGB size=3x2 at 0x7F692A974990>"
            ],
            "image/png": "[encoded data removed]"
          },
          "metadata": {}
        },
        {
          "output_type": "display_data",
          "data": {
            "text/plain": [
              "<PIL.Image.Image image mode=RGB size=1x1 at 0x7F692A974F90>"
            ],
            "image/png": "[encoded data removed]"
          },
          "metadata": {}
        },
        {
          "output_type": "display_data",
          "data": {
            "text/plain": [
              "<PIL.Image.Image image mode=RGB size=20x21 at 0x7F692A974990>"
            ],
            "image/png": "[encoded data removed]"
          },
          "metadata": {}
        },
        {
          "output_type": "display_data",
          "data": {
            "text/plain": [
              "<PIL.Image.Image image mode=RGB size=10x12 at 0x7F692A974F90>"
            ],
            "image/png": "[encoded data removed]"
          },
          "metadata": {}
        },
        {
          "output_type": "display_data",
          "data": {
            "text/plain": [
              "<PIL.Image.Image image mode=RGB size=5x4 at 0x7F692A974990>"
            ],
            "image/png": "[encoded data removed]"
          },
          "metadata": {}
        },
        {
          "output_type": "display_data",
          "data": {
            "text/plain": [
              "<PIL.Image.Image image mode=RGB size=4x4 at 0x7F692A974F90>"
            ],
            "image/png": "[encoded data removed]"
          },
          "metadata": {}
        },
        {
          "output_type": "display_data",
          "data": {
            "text/plain": [
              "<PIL.Image.Image image mode=RGB size=9x10 at 0x7F692A974990>"
            ],
            "image/png": "[encoded data removed]"
          },
          "metadata": {}
        },
        {
          "output_type": "display_data",
          "data": {
            "text/plain": [
              "<PIL.Image.Image image mode=RGB size=3x4 at 0x7F692A974F90>"
            ],
            "image/png": "[encoded data removed]"
          },
          "metadata": {}
        },
        {
          "output_type": "display_data",
          "data": {
            "text/plain": [
              "<PIL.Image.Image image mode=RGB size=28x28 at 0x7F692A974990>"
            ],
            "image/png": "[encoded data removed]"
          },
          "metadata": {}
        },
        {
          "output_type": "display_data",
          "data": {
            "text/plain": [
              "<PIL.Image.Image image mode=RGB size=16x23 at 0x7F692A974F90>"
            ],
            "image/png": "[encoded data removed]"
          },
          "metadata": {}
        },
        {
          "output_type": "display_data",
          "data": {
            "text/plain": [
              "<PIL.Image.Image image mode=RGB size=16x21 at 0x7F692A974990>"
            ],
            "image/png": "[encoded data removed]"
          },
          "metadata": {}
        },
        {
          "output_type": "display_data",
          "data": {
            "text/plain": [
              "<PIL.Image.Image image mode=RGB size=20x22 at 0x7F692A974F90>"
            ],
            "image/png": "[encoded data removed]"
          },
          "metadata": {}
        },
        {
          "output_type": "display_data",
          "data": {
            "text/plain": [
              "<PIL.Image.Image image mode=RGB size=24x20 at 0x7F692A974990>"
            ],
            "image/png": "[encoded data removed]"
          },
          "metadata": {}
        },
        {
          "output_type": "display_data",
          "data": {
            "text/plain": [
              "<PIL.Image.Image image mode=RGB size=10x8 at 0x7F692A974F90>"
            ],
            "image/png": "[encoded data removed]"
          },
          "metadata": {}
        },
        {
          "output_type": "display_data",
          "data": {
            "text/plain": [
              "<PIL.Image.Image image mode=RGB size=21x18 at 0x7F692A974990>"
            ],
            "image/png": "[encoded data removed]"
          },
          "metadata": {}
        },
        {
          "output_type": "display_data",
          "data": {
            "text/plain": [
              "<PIL.Image.Image image mode=RGB size=7x6 at 0x7F692A974F90>"
            ],
            "image/png": "[encoded data removed]"
          },
          "metadata": {}
        },
        {
          "output_type": "display_data",
          "data": {
            "text/plain": [
              "<PIL.Image.Image image mode=RGB size=18x29 at 0x7F692A974990>"
            ],
            "image/png": "[encoded data removed]"
          },
          "metadata": {}
        },
        {
          "output_type": "display_data",
          "data": {
            "text/plain": [
              "<PIL.Image.Image image mode=RGB size=5x8 at 0x7F692A974F90>"
            ],
            "image/png": "[encoded data removed]"
          },
          "metadata": {}
        },
        {
          "output_type": "display_data",
          "data": {
            "text/plain": [
              "<PIL.Image.Image image mode=RGB size=13x7 at 0x7F692A974990>"
            ],
            "image/png": "[encoded data removed]"
          },
          "metadata": {}
        },
        {
          "output_type": "display_data",
          "data": {
            "text/plain": [
              "<PIL.Image.Image image mode=RGB size=6x9 at 0x7F692A974F90>"
            ],
            "image/png": "[encoded data removed]"
          },
          "metadata": {}
        },
        {
          "output_type": "display_data",
          "data": {
            "text/plain": [
              "<PIL.Image.Image image mode=RGB size=11x11 at 0x7F692A974990>"
            ],
            "image/png": "[encoded data removed]"
          },
          "metadata": {}
        },
        {
          "output_type": "display_data",
          "data": {
            "text/plain": [
              "<PIL.Image.Image image mode=RGB size=5x3 at 0x7F692A974550>"
            ],
            "image/png": "[encoded data removed]"
          },
          "metadata": {}
        },
        {
          "output_type": "display_data",
          "data": {
            "text/plain": [
              "<PIL.Image.Image image mode=RGB size=6x4 at 0x7F692A974D50>"
            ],
            "image/png": "[encoded data removed]"
          },
          "metadata": {}
        },
        {
          "output_type": "display_data",
          "data": {
            "text/plain": [
              "<PIL.Image.Image image mode=RGB size=20x20 at 0x7F692A974550>"
            ],
            "image/png": "[encoded data removed]"
          },
          "metadata": {}
        },
        {
          "output_type": "display_data",
          "data": {
            "text/plain": [
              "<PIL.Image.Image image mode=RGB size=3x3 at 0x7F692A974D50>"
            ],
            "image/png": "[encoded data removed]"
          },
          "metadata": {}
        },
        {
          "output_type": "display_data",
          "data": {
            "text/plain": [
              "<PIL.Image.Image image mode=RGB size=16x22 at 0x7F692A974550>"
            ],
            "image/png": "[encoded data removed]"
          },
          "metadata": {}
        },
        {
          "output_type": "display_data",
          "data": {
            "text/plain": [
              "<PIL.Image.Image image mode=RGB size=3x3 at 0x7F692A974D50>"
            ],
            "image/png": "[encoded data removed]"
          },
          "metadata": {}
        },
        {
          "output_type": "display_data",
          "data": {
            "text/plain": [
              "<PIL.Image.Image image mode=RGB size=9x7 at 0x7F692A974550>"
            ],
            "image/png": "[encoded data removed]"
          },
          "metadata": {}
        },
        {
          "output_type": "display_data",
          "data": {
            "text/plain": [
              "<PIL.Image.Image image mode=RGB size=3x3 at 0x7F692A974D50>"
            ],
            "image/png": "[encoded data removed]"
          },
          "metadata": {}
        },
        {
          "output_type": "display_data",
          "data": {
            "text/plain": [
              "<PIL.Image.Image image mode=RGB size=28x23 at 0x7F692A974550>"
            ],
            "image/png": "[encoded data removed]"
          },
          "metadata": {}
        },
        {
          "output_type": "display_data",
          "data": {
            "text/plain": [
              "<PIL.Image.Image image mode=RGB size=4x3 at 0x7F692A974D50>"
            ],
            "image/png": "[encoded data removed]"
          },
          "metadata": {}
        },
        {
          "output_type": "display_data",
          "data": {
            "text/plain": [
              "<PIL.Image.Image image mode=RGB size=4x8 at 0x7F692A974550>"
            ],
            "image/png": "[encoded data removed]"
          },
          "metadata": {}
        },
        {
          "output_type": "display_data",
          "data": {
            "text/plain": [
              "<PIL.Image.Image image mode=RGB size=28x19 at 0x7F692A974D50>"
            ],
            "image/png": "[encoded data removed]"
          },
          "metadata": {}
        },
        {
          "output_type": "display_data",
          "data": {
            "text/plain": [
              "<PIL.Image.Image image mode=RGB size=20x23 at 0x7F692A974550>"
            ],
            "image/png": "[encoded data removed]"
          },
          "metadata": {}
        },
        {
          "output_type": "display_data",
          "data": {
            "text/plain": [
              "<PIL.Image.Image image mode=RGB size=18x20 at 0x7F692A974D50>"
            ],
            "image/png": "[encoded data removed]"
          },
          "metadata": {}
        },
        {
          "output_type": "display_data",
          "data": {
            "text/plain": [
              "<PIL.Image.Image image mode=RGB size=3x2 at 0x7F692A974550>"
            ],
            "image/png": "[encoded data removed]"
          },
          "metadata": {}
        },
        {
          "output_type": "display_data",
          "data": {
            "text/plain": [
              "<PIL.Image.Image image mode=RGB size=24x12 at 0x7F692A974D50>"
            ],
            "image/png": "[encoded data removed]"
          },
          "metadata": {}
        },
        {
          "output_type": "display_data",
          "data": {
            "text/plain": [
              "<PIL.Image.Image image mode=RGB size=4x6 at 0x7F692A974550>"
            ],
            "image/png": "[encoded data removed]"
          },
          "metadata": {}
        },
        {
          "output_type": "display_data",
          "data": {
            "text/plain": [
              "<PIL.Image.Image image mode=RGB size=21x21 at 0x7F692A974D50>"
            ],
            "image/png": "[encoded data removed]"
          },
          "metadata": {}
        },
        {
          "output_type": "display_data",
          "data": {
            "text/plain": [
              "<PIL.Image.Image image mode=RGB size=23x23 at 0x7F692A974550>"
            ],
            "image/png": "[encoded data removed]"
          },
          "metadata": {}
        },
        {
          "output_type": "display_data",
          "data": {
            "text/plain": [
              "<PIL.Image.Image image mode=RGB size=4x3 at 0x7F692A974D50>"
            ],
            "image/png": "[encoded data removed]"
          },
          "metadata": {}
        },
        {
          "output_type": "display_data",
          "data": {
            "text/plain": [
              "<PIL.Image.Image image mode=RGB size=5x5 at 0x7F692A974550>"
            ],
            "image/png": "[encoded data removed]"
          },
          "metadata": {}
        },
        {
          "output_type": "display_data",
          "data": {
            "text/plain": [
              "<PIL.Image.Image image mode=RGB size=3x3 at 0x7F692A974D50>"
            ],
            "image/png": "[encoded data removed]"
          },
          "metadata": {}
        },
        {
          "output_type": "display_data",
          "data": {
            "text/plain": [
              "<PIL.Image.Image image mode=RGB size=4x5 at 0x7F692A974550>"
            ],
            "image/png": "[encoded data removed]"
          },
          "metadata": {}
        },
        {
          "output_type": "display_data",
          "data": {
            "text/plain": [
              "<PIL.Image.Image image mode=RGB size=12x10 at 0x7F692A974D50>"
            ],
            "image/png": "[encoded data removed]"
          },
          "metadata": {}
        },
        {
          "output_type": "display_data",
          "data": {
            "text/plain": [
              "<PIL.Image.Image image mode=RGB size=20x18 at 0x7F692A974550>"
            ],
            "image/png": "[encoded data removed]"
          },
          "metadata": {}
        },
        {
          "output_type": "display_data",
          "data": {
            "text/plain": [
              "<PIL.Image.Image image mode=RGB size=26x15 at 0x7F692A974D50>"
            ],
            "image/png": "[encoded data removed]"
          },
          "metadata": {}
        },
        {
          "output_type": "display_data",
          "data": {
            "text/plain": [
              "<PIL.Image.Image image mode=RGB size=21x21 at 0x7F692A974550>"
            ],
            "image/png": "[encoded data removed]"
          },
          "metadata": {}
        },
        {
          "output_type": "display_data",
          "data": {
            "text/plain": [
              "<PIL.Image.Image image mode=RGB size=6x5 at 0x7F692A974D50>"
            ],
            "image/png": "[encoded data removed]"
          },
          "metadata": {}
        },
        {
          "output_type": "display_data",
          "data": {
            "text/plain": [
              "<PIL.Image.Image image mode=RGB size=19x17 at 0x7F692A974550>"
            ],
            "image/png": "[encoded data removed]"
          },
          "metadata": {}
        },
        {
          "output_type": "display_data",
          "data": {
            "text/plain": [
              "<PIL.Image.Image image mode=RGB size=4x4 at 0x7F692A974D50>"
            ],
            "image/png": "[encoded data removed]"
          },
          "metadata": {}
        },
        {
          "output_type": "display_data",
          "data": {
            "text/plain": [
              "<PIL.Image.Image image mode=RGB size=6x7 at 0x7F692A974550>"
            ],
            "image/png": "[encoded data removed]"
          },
          "metadata": {}
        },
        {
          "output_type": "display_data",
          "data": {
            "text/plain": [
              "<PIL.Image.Image image mode=RGB size=6x8 at 0x7F692A974D50>"
            ],
            "image/png": "[encoded data removed]"
          },
          "metadata": {}
        },
        {
          "output_type": "display_data",
          "data": {
            "text/plain": [
              "<PIL.Image.Image image mode=RGB size=27x20 at 0x7F692A974550>"
            ],
            "image/png": "[encoded data removed]"
          },
          "metadata": {}
        },
        {
          "output_type": "display_data",
          "data": {
            "text/plain": [
              "<PIL.Image.Image image mode=RGB size=2x2 at 0x7F692A974D50>"
            ],
            "image/png": "[encoded data removed]"
          },
          "metadata": {}
        },
        {
          "output_type": "display_data",
          "data": {
            "text/plain": [
              "<PIL.Image.Image image mode=RGB size=20x23 at 0x7F692A974550>"
            ],
            "image/png": "[encoded data removed]"
          },
          "metadata": {}
        },
        {
          "output_type": "display_data",
          "data": {
            "text/plain": [
              "<PIL.Image.Image image mode=RGB size=12x12 at 0x7F692A974D50>"
            ],
            "image/png": "[encoded data removed]"
          },
          "metadata": {}
        },
        {
          "output_type": "display_data",
          "data": {
            "text/plain": [
              "<PIL.Image.Image image mode=RGB size=4x7 at 0x7F692A974550>"
            ],
            "image/png": "[encoded data removed]"
          },
          "metadata": {}
        },
        {
          "output_type": "display_data",
          "data": {
            "text/plain": [
              "<PIL.Image.Image image mode=RGB size=13x13 at 0x7F692A974D50>"
            ],
            "image/png": "[encoded data removed]"
          },
          "metadata": {}
        },
        {
          "output_type": "display_data",
          "data": {
            "text/plain": [
              "<PIL.Image.Image image mode=RGB size=4x3 at 0x7F692A974550>"
            ],
            "image/png": "[encoded data removed]"
          },
          "metadata": {}
        },
        {
          "output_type": "display_data",
          "data": {
            "text/plain": [
              "<PIL.Image.Image image mode=RGB size=9x5 at 0x7F692A974D50>"
            ],
            "image/png": "[encoded data removed]"
          },
          "metadata": {}
        },
        {
          "output_type": "display_data",
          "data": {
            "text/plain": [
              "<PIL.Image.Image image mode=RGB size=22x22 at 0x7F692A974550>"
            ],
            "image/png": "[encoded data removed]"
          },
          "metadata": {}
        },
        {
          "output_type": "display_data",
          "data": {
            "text/plain": [
              "<PIL.Image.Image image mode=RGB size=3x3 at 0x7F692A974D50>"
            ],
            "image/png": "[encoded data removed]"
          },
          "metadata": {}
        },
        {
          "output_type": "display_data",
          "data": {
            "text/plain": [
              "<PIL.Image.Image image mode=RGB size=19x30 at 0x7F692A974550>"
            ],
            "image/png": "[encoded data removed]"
          },
          "metadata": {}
        },
        {
          "output_type": "display_data",
          "data": {
            "text/plain": [
              "<PIL.Image.Image image mode=RGB size=7x5 at 0x7F692A974D50>"
            ],
            "image/png": "[encoded data removed]"
          },
          "metadata": {}
        },
        {
          "output_type": "display_data",
          "data": {
            "text/plain": [
              "<PIL.Image.Image image mode=RGB size=6x5 at 0x7F692A974290>"
            ],
            "image/png": "[encoded data removed]"
          },
          "metadata": {}
        },
        {
          "output_type": "display_data",
          "data": {
            "text/plain": [
              "<PIL.Image.Image image mode=RGB size=3x3 at 0x7F692A974D50>"
            ],
            "image/png": "[encoded data removed]"
          },
          "metadata": {}
        },
        {
          "output_type": "display_data",
          "data": {
            "text/plain": [
              "<PIL.Image.Image image mode=RGB size=4x4 at 0x7F692A974290>"
            ],
            "image/png": "[encoded data removed]"
          },
          "metadata": {}
        },
        {
          "output_type": "display_data",
          "data": {
            "text/plain": [
              "<PIL.Image.Image image mode=RGB size=16x18 at 0x7F692A974D50>"
            ],
            "image/png": "[encoded data removed]"
          },
          "metadata": {}
        },
        {
          "output_type": "display_data",
          "data": {
            "text/plain": [
              "<PIL.Image.Image image mode=RGB size=22x14 at 0x7F692A974290>"
            ],
            "image/png": "[encoded data removed]"
          },
          "metadata": {}
        },
        {
          "output_type": "display_data",
          "data": {
            "text/plain": [
              "<PIL.Image.Image image mode=RGB size=7x7 at 0x7F692A974D50>"
            ],
            "image/png": "[encoded data removed]"
          },
          "metadata": {}
        },
        {
          "output_type": "display_data",
          "data": {
            "text/plain": [
              "<PIL.Image.Image image mode=RGB size=4x3 at 0x7F692A974290>"
            ],
            "image/png": "[encoded data removed]"
          },
          "metadata": {}
        },
        {
          "output_type": "display_data",
          "data": {
            "text/plain": [
              "<PIL.Image.Image image mode=RGB size=21x23 at 0x7F692A974D50>"
            ],
            "image/png": "[encoded data removed]"
          },
          "metadata": {}
        },
        {
          "output_type": "display_data",
          "data": {
            "text/plain": [
              "<PIL.Image.Image image mode=RGB size=4x8 at 0x7F692A974290>"
            ],
            "image/png": "[encoded data removed]"
          },
          "metadata": {}
        },
        {
          "output_type": "display_data",
          "data": {
            "text/plain": [
              "<PIL.Image.Image image mode=RGB size=3x3 at 0x7F692A974D50>"
            ],
            "image/png": "[encoded data removed]"
          },
          "metadata": {}
        },
        {
          "output_type": "display_data",
          "data": {
            "text/plain": [
              "<PIL.Image.Image image mode=RGB size=12x7 at 0x7F692A974290>"
            ],
            "image/png": "[encoded data removed]"
          },
          "metadata": {}
        },
        {
          "output_type": "display_data",
          "data": {
            "text/plain": [
              "<PIL.Image.Image image mode=RGB size=18x20 at 0x7F692A974D50>"
            ],
            "image/png": "[encoded data removed]"
          },
          "metadata": {}
        },
        {
          "output_type": "display_data",
          "data": {
            "text/plain": [
              "<PIL.Image.Image image mode=RGB size=24x19 at 0x7F692A974290>"
            ],
            "image/png": "[encoded data removed]"
          },
          "metadata": {}
        },
        {
          "output_type": "display_data",
          "data": {
            "text/plain": [
              "<PIL.Image.Image image mode=RGB size=15x21 at 0x7F692A974D50>"
            ],
            "image/png": "[encoded data removed]"
          },
          "metadata": {}
        },
        {
          "output_type": "display_data",
          "data": {
            "text/plain": [
              "<PIL.Image.Image image mode=RGB size=39x35 at 0x7F692A974290>"
            ],
            "image/png": "[encoded data removed]"
          },
          "metadata": {}
        },
        {
          "output_type": "display_data",
          "data": {
            "text/plain": [
              "<PIL.Image.Image image mode=RGB size=5x4 at 0x7F692A974D50>"
            ],
            "image/png": "[encoded data removed]"
          },
          "metadata": {}
        },
        {
          "output_type": "display_data",
          "data": {
            "text/plain": [
              "<PIL.Image.Image image mode=RGB size=11x10 at 0x7F692A974290>"
            ],
            "image/png": "[encoded data removed]"
          },
          "metadata": {}
        },
        {
          "output_type": "display_data",
          "data": {
            "text/plain": [
              "<PIL.Image.Image image mode=RGB size=7x5 at 0x7F692A974D50>"
            ],
            "image/png": "[encoded data removed]"
          },
          "metadata": {}
        },
        {
          "output_type": "display_data",
          "data": {
            "text/plain": [
              "<PIL.Image.Image image mode=RGB size=11x8 at 0x7F692A974290>"
            ],
            "image/png": "[encoded data removed]"
          },
          "metadata": {}
        },
        {
          "output_type": "display_data",
          "data": {
            "text/plain": [
              "<PIL.Image.Image image mode=RGB size=4x4 at 0x7F692A974D50>"
            ],
            "image/png": "[encoded data removed]"
          },
          "metadata": {}
        },
        {
          "output_type": "display_data",
          "data": {
            "text/plain": [
              "<PIL.Image.Image image mode=RGB size=25x21 at 0x7F692A974290>"
            ],
            "image/png": "[encoded data removed]"
          },
          "metadata": {}
        },
        {
          "output_type": "display_data",
          "data": {
            "text/plain": [
              "<PIL.Image.Image image mode=RGB size=10x9 at 0x7F692A974BD0>"
            ],
            "image/png": "[encoded data removed]"
          },
          "metadata": {}
        },
        {
          "output_type": "display_data",
          "data": {
            "text/plain": [
              "<PIL.Image.Image image mode=RGB size=19x25 at 0x7F692A974810>"
            ],
            "image/png": "[encoded data removed]"
          },
          "metadata": {}
        },
        {
          "output_type": "display_data",
          "data": {
            "text/plain": [
              "<PIL.Image.Image image mode=RGB size=5x5 at 0x7F692A974BD0>"
            ],
            "image/png": "[encoded data removed]"
          },
          "metadata": {}
        },
        {
          "output_type": "display_data",
          "data": {
            "text/plain": [
              "<PIL.Image.Image image mode=RGB size=7x5 at 0x7F692A974810>"
            ],
            "image/png": "[encoded data removed]"
          },
          "metadata": {}
        },
        {
          "output_type": "display_data",
          "data": {
            "text/plain": [
              "<PIL.Image.Image image mode=RGB size=4x5 at 0x7F692A974BD0>"
            ],
            "image/png": "[encoded data removed]"
          },
          "metadata": {}
        },
        {
          "output_type": "display_data",
          "data": {
            "text/plain": [
              "<PIL.Image.Image image mode=RGB size=23x18 at 0x7F692A974810>"
            ],
            "image/png": "[encoded data removed]"
          },
          "metadata": {}
        },
        {
          "output_type": "display_data",
          "data": {
            "text/plain": [
              "<PIL.Image.Image image mode=RGB size=30x27 at 0x7F692A974BD0>"
            ],
            "image/png": "[encoded data removed]"
          },
          "metadata": {}
        },
        {
          "output_type": "display_data",
          "data": {
            "text/plain": [
              "<PIL.Image.Image image mode=RGB size=3x2 at 0x7F692A974810>"
            ],
            "image/png": "[encoded data removed]"
          },
          "metadata": {}
        },
        {
          "output_type": "display_data",
          "data": {
            "text/plain": [
              "<PIL.Image.Image image mode=RGB size=3x3 at 0x7F692A974BD0>"
            ],
            "image/png": "[encoded data removed]"
          },
          "metadata": {}
        },
        {
          "output_type": "display_data",
          "data": {
            "text/plain": [
              "<PIL.Image.Image image mode=RGB size=11x16 at 0x7F692A974810>"
            ],
            "image/png": "[encoded data removed]"
          },
          "metadata": {}
        },
        {
          "output_type": "display_data",
          "data": {
            "text/plain": [
              "<PIL.Image.Image image mode=RGB size=3x3 at 0x7F692A974BD0>"
            ],
            "image/png": "[encoded data removed]"
          },
          "metadata": {}
        },
        {
          "output_type": "display_data",
          "data": {
            "text/plain": [
              "<PIL.Image.Image image mode=RGB size=10x7 at 0x7F692A974810>"
            ],
            "image/png": "[encoded data removed]"
          },
          "metadata": {}
        },
        {
          "output_type": "display_data",
          "data": {
            "text/plain": [
              "<PIL.Image.Image image mode=RGB size=26x16 at 0x7F692A974BD0>"
            ],
            "image/png": "[encoded data removed]"
          },
          "metadata": {}
        },
        {
          "output_type": "display_data",
          "data": {
            "text/plain": [
              "<PIL.Image.Image image mode=RGB size=18x18 at 0x7F692A974810>"
            ],
            "image/png": "[encoded data removed]"
          },
          "metadata": {}
        },
        {
          "output_type": "display_data",
          "data": {
            "text/plain": [
              "<PIL.Image.Image image mode=RGB size=23x19 at 0x7F692A974BD0>"
            ],
            "image/png": "[encoded data removed]"
          },
          "metadata": {}
        },
        {
          "output_type": "display_data",
          "data": {
            "text/plain": [
              "<PIL.Image.Image image mode=RGB size=19x12 at 0x7F692A974810>"
            ],
            "image/png": "[encoded data removed]"
          },
          "metadata": {}
        },
        {
          "output_type": "display_data",
          "data": {
            "text/plain": [
              "<PIL.Image.Image image mode=RGB size=24x24 at 0x7F692A974BD0>"
            ],
            "image/png": "[encoded data removed]"
          },
          "metadata": {}
        },
        {
          "output_type": "display_data",
          "data": {
            "text/plain": [
              "<PIL.Image.Image image mode=RGB size=29x20 at 0x7F692A974810>"
            ],
            "image/png": "[encoded data removed]"
          },
          "metadata": {}
        },
        {
          "output_type": "display_data",
          "data": {
            "text/plain": [
              "<PIL.Image.Image image mode=RGB size=4x3 at 0x7F692A974BD0>"
            ],
            "image/png": "[encoded data removed]"
          },
          "metadata": {}
        },
        {
          "output_type": "display_data",
          "data": {
            "text/plain": [
              "<PIL.Image.Image image mode=RGB size=22x29 at 0x7F692A974810>"
            ],
            "image/png": "[encoded data removed]"
          },
          "metadata": {}
        },
        {
          "output_type": "display_data",
          "data": {
            "text/plain": [
              "<PIL.Image.Image image mode=RGB size=15x19 at 0x7F692A974BD0>"
            ],
            "image/png": "[encoded data removed]"
          },
          "metadata": {}
        },
        {
          "output_type": "display_data",
          "data": {
            "text/plain": [
              "<PIL.Image.Image image mode=RGB size=22x21 at 0x7F692A9742D0>"
            ],
            "image/png": "[encoded data removed]"
          },
          "metadata": {}
        },
        {
          "output_type": "display_data",
          "data": {
            "text/plain": [
              "<PIL.Image.Image image mode=RGB size=21x20 at 0x7F692A974BD0>"
            ],
            "image/png": "[encoded data removed]"
          },
          "metadata": {}
        },
        {
          "output_type": "display_data",
          "data": {
            "text/plain": [
              "<PIL.Image.Image image mode=RGB size=2x2 at 0x7F692A974F90>"
            ],
            "image/png": "[encoded data removed]"
          },
          "metadata": {}
        },
        {
          "output_type": "display_data",
          "data": {
            "text/plain": [
              "<PIL.Image.Image image mode=RGB size=4x3 at 0x7F692A974550>"
            ],
            "image/png": "[encoded data removed]"
          },
          "metadata": {}
        },
        {
          "output_type": "display_data",
          "data": {
            "text/plain": [
              "<PIL.Image.Image image mode=RGB size=4x4 at 0x7F692A974F90>"
            ],
            "image/png": "[encoded data removed]"
          },
          "metadata": {}
        },
        {
          "output_type": "display_data",
          "data": {
            "text/plain": [
              "<PIL.Image.Image image mode=RGB size=6x6 at 0x7F692A974550>"
            ],
            "image/png": "[encoded data removed]"
          },
          "metadata": {}
        },
        {
          "output_type": "display_data",
          "data": {
            "text/plain": [
              "<PIL.Image.Image image mode=RGB size=24x24 at 0x7F692A974F90>"
            ],
            "image/png": "[encoded data removed]"
          },
          "metadata": {}
        },
        {
          "output_type": "display_data",
          "data": {
            "text/plain": [
              "<PIL.Image.Image image mode=RGB size=4x3 at 0x7F692A974550>"
            ],
            "image/png": "[encoded data removed]"
          },
          "metadata": {}
        },
        {
          "output_type": "display_data",
          "data": {
            "text/plain": [
              "<PIL.Image.Image image mode=RGB size=13x20 at 0x7F692A974F90>"
            ],
            "image/png": "[encoded data removed]"
          },
          "metadata": {}
        },
        {
          "output_type": "display_data",
          "data": {
            "text/plain": [
              "<PIL.Image.Image image mode=RGB size=6x7 at 0x7F692A974550>"
            ],
            "image/png": "[encoded data removed]"
          },
          "metadata": {}
        },
        {
          "output_type": "display_data",
          "data": {
            "text/plain": [
              "<PIL.Image.Image image mode=RGB size=10x10 at 0x7F692A974F90>"
            ],
            "image/png": "[encoded data removed]"
          },
          "metadata": {}
        },
        {
          "output_type": "display_data",
          "data": {
            "text/plain": [
              "<PIL.Image.Image image mode=RGB size=40x33 at 0x7F692A974550>"
            ],
            "image/png": "[encoded data removed]"
          },
          "metadata": {}
        },
        {
          "output_type": "display_data",
          "data": {
            "text/plain": [
              "<PIL.Image.Image image mode=RGB size=5x6 at 0x7F692A974F90>"
            ],
            "image/png": "[encoded data removed]"
          },
          "metadata": {}
        },
        {
          "output_type": "display_data",
          "data": {
            "text/plain": [
              "<PIL.Image.Image image mode=RGB size=5x4 at 0x7F692A974550>"
            ],
            "image/png": "[encoded data removed]"
          },
          "metadata": {}
        },
        {
          "output_type": "display_data",
          "data": {
            "text/plain": [
              "<PIL.Image.Image image mode=RGB size=26x28 at 0x7F692A974F90>"
            ],
            "image/png": "[encoded data removed]"
          },
          "metadata": {}
        },
        {
          "output_type": "display_data",
          "data": {
            "text/plain": [
              "<PIL.Image.Image image mode=RGB size=5x4 at 0x7F692A974550>"
            ],
            "image/png": "[encoded data removed]"
          },
          "metadata": {}
        },
        {
          "output_type": "display_data",
          "data": {
            "text/plain": [
              "<PIL.Image.Image image mode=RGB size=8x9 at 0x7F692A974F90>"
            ],
            "image/png": "[encoded data removed]"
          },
          "metadata": {}
        },
        {
          "output_type": "display_data",
          "data": {
            "text/plain": [
              "<PIL.Image.Image image mode=RGB size=25x19 at 0x7F692A974550>"
            ],
            "image/png": "[encoded data removed]"
          },
          "metadata": {}
        },
        {
          "output_type": "display_data",
          "data": {
            "text/plain": [
              "<PIL.Image.Image image mode=RGB size=5x3 at 0x7F692A974F90>"
            ],
            "image/png": "[encoded data removed]"
          },
          "metadata": {}
        },
        {
          "output_type": "display_data",
          "data": {
            "text/plain": [
              "<PIL.Image.Image image mode=RGB size=9x7 at 0x7F692A974550>"
            ],
            "image/png": "[encoded data removed]"
          },
          "metadata": {}
        },
        {
          "output_type": "display_data",
          "data": {
            "text/plain": [
              "<PIL.Image.Image image mode=RGB size=28x14 at 0x7F692A974F90>"
            ],
            "image/png": "[encoded data removed]"
          },
          "metadata": {}
        },
        {
          "output_type": "display_data",
          "data": {
            "text/plain": [
              "<PIL.Image.Image image mode=RGB size=7x8 at 0x7F692A974550>"
            ],
            "image/png": "[encoded data removed]"
          },
          "metadata": {}
        },
        {
          "output_type": "display_data",
          "data": {
            "text/plain": [
              "<PIL.Image.Image image mode=RGB size=6x6 at 0x7F692A974F90>"
            ],
            "image/png": "[encoded data removed]"
          },
          "metadata": {}
        },
        {
          "output_type": "execute_result",
          "data": {
            "text/plain": [
              "('/content/patches/patch2bbe6ddea-76c4-4e19-a12c-c964c182b184',\n",
              " [[0, 0, 370, 370],\n",
              "  [69, 366, 4, 3],\n",
              "  [17, 364, 11, 5],\n",
              "  [194, 363, 3, 3],\n",
              "  [60, 360, 9, 8],\n",
              "  [68, 358, 5, 5],\n",
              "  [55, 356, 5, 6],\n",
              "  [237, 340, 17, 18],\n",
              "  [200, 338, 4, 5],\n",
              "  [79, 338, 14, 17],\n",
              "  [73, 335, 4, 4],\n",
              "  [170, 333, 17, 18],\n",
              "  [202, 332, 12, 17],\n",
              "  [269, 326, 14, 19],\n",
              "  [293, 325, 31, 23],\n",
              "  [263, 325, 9, 9],\n",
              "  [322, 323, 8, 12],\n",
              "  [318, 319, 5, 5],\n",
              "  [54, 316, 16, 21],\n",
              "  [103, 313, 38, 32],\n",
              "  [117, 330, 3, 2],\n",
              "  [127, 321, 1, 1],\n",
              "  [74, 310, 20, 21],\n",
              "  [209, 307, 10, 12],\n",
              "  [134, 306, 5, 4],\n",
              "  [246, 302, 4, 4],\n",
              "  [26, 301, 9, 10],\n",
              "  [245, 295, 3, 4],\n",
              "  [89, 288, 28, 28],\n",
              "  [130, 284, 16, 23],\n",
              "  [300, 282, 16, 21],\n",
              "  [32, 282, 20, 22],\n",
              "  [187, 278, 24, 20],\n",
              "  [162, 274, 10, 8],\n",
              "  [222, 270, 21, 18],\n",
              "  [199, 266, 7, 6],\n",
              "  [263, 262, 18, 29],\n",
              "  [291, 259, 5, 8],\n",
              "  [196, 258, 13, 7],\n",
              "  [138, 258, 6, 9],\n",
              "  [236, 253, 11, 11],\n",
              "  [206, 252, 5, 3],\n",
              "  [209, 250, 6, 4],\n",
              "  [13, 250, 20, 20],\n",
              "  [213, 249, 3, 3],\n",
              "  [160, 249, 16, 22],\n",
              "  [55, 249, 3, 3],\n",
              "  [198, 248, 9, 7],\n",
              "  [57, 247, 3, 3],\n",
              "  [93, 245, 28, 23],\n",
              "  [195, 241, 4, 3],\n",
              "  [217, 240, 4, 8],\n",
              "  [316, 232, 28, 19],\n",
              "  [253, 230, 20, 23],\n",
              "  [346, 229, 18, 20],\n",
              "  [350, 243, 3, 2],\n",
              "  [196, 228, 24, 12],\n",
              "  [53, 228, 4, 6],\n",
              "  [225, 227, 21, 21],\n",
              "  [291, 220, 23, 23],\n",
              "  [304, 235, 4, 3],\n",
              "  [296, 232, 5, 5],\n",
              "  [217, 218, 3, 3],\n",
              "  [110, 215, 4, 5],\n",
              "  [101, 208, 12, 10],\n",
              "  [316, 207, 20, 18],\n",
              "  [203, 206, 26, 15],\n",
              "  [3, 206, 21, 21],\n",
              "  [9, 215, 6, 5],\n",
              "  [273, 203, 19, 17],\n",
              "  [86, 199, 4, 4],\n",
              "  [165, 193, 6, 7],\n",
              "  [215, 192, 6, 8],\n",
              "  [178, 192, 27, 20],\n",
              "  [200, 203, 2, 2],\n",
              "  [255, 191, 20, 23],\n",
              "  [25, 191, 12, 12],\n",
              "  [93, 190, 4, 7],\n",
              "  [77, 187, 13, 13],\n",
              "  [31, 183, 4, 3],\n",
              "  [219, 182, 9, 5],\n",
              "  [100, 181, 22, 22],\n",
              "  [31, 179, 3, 3],\n",
              "  [331, 178, 19, 30],\n",
              "  [320, 175, 7, 5],\n",
              "  [326, 174, 6, 5],\n",
              "  [319, 174, 3, 3],\n",
              "  [192, 174, 4, 4],\n",
              "  [264, 173, 16, 18],\n",
              "  [246, 169, 22, 14],\n",
              "  [329, 168, 7, 7],\n",
              "  [253, 166, 4, 3],\n",
              "  [138, 165, 21, 23],\n",
              "  [315, 163, 4, 8],\n",
              "  [317, 162, 3, 3],\n",
              "  [318, 157, 12, 7],\n",
              "  [93, 156, 18, 20],\n",
              "  [167, 151, 24, 19],\n",
              "  [353, 150, 15, 21],\n",
              "  [1, 150, 39, 35],\n",
              "  [168, 146, 5, 4],\n",
              "  [311, 141, 11, 10],\n",
              "  [99, 132, 7, 5],\n",
              "  [151, 130, 11, 8],\n",
              "  [94, 129, 4, 4],\n",
              "  [44, 128, 25, 21],\n",
              "  [105, 122, 10, 9],\n",
              "  [278, 121, 19, 25],\n",
              "  [99, 121, 5, 5],\n",
              "  [105, 116, 7, 5],\n",
              "  [251, 115, 4, 5],\n",
              "  [195, 113, 23, 18],\n",
              "  [119, 109, 30, 27],\n",
              "  [139, 117, 3, 2],\n",
              "  [133, 113, 3, 3],\n",
              "  [236, 107, 11, 16],\n",
              "  [239, 112, 3, 3],\n",
              "  [63, 107, 10, 7],\n",
              "  [170, 104, 26, 16],\n",
              "  [316, 103, 18, 18],\n",
              "  [84, 101, 23, 19],\n",
              "  [236, 99, 19, 12],\n",
              "  [141, 92, 24, 24],\n",
              "  [165, 79, 29, 20],\n",
              "  [168, 84, 4, 3],\n",
              "  [256, 78, 22, 29],\n",
              "  [116, 76, 15, 19],\n",
              "  [7, 69, 22, 21],\n",
              "  [100, 58, 21, 20],\n",
              "  [112, 66, 2, 2],\n",
              "  [68, 57, 4, 3],\n",
              "  [74, 54, 4, 4],\n",
              "  [232, 47, 6, 6],\n",
              "  [32, 46, 24, 24],\n",
              "  [47, 58, 4, 3],\n",
              "  [214, 43, 13, 20],\n",
              "  [302, 37, 6, 7],\n",
              "  [115, 33, 10, 10],\n",
              "  [319, 32, 40, 33],\n",
              "  [219, 31, 5, 6],\n",
              "  [285, 25, 5, 4],\n",
              "  [148, 15, 26, 28],\n",
              "  [166, 28, 5, 4],\n",
              "  [8, 12, 8, 9],\n",
              "  [169, 4, 25, 19],\n",
              "  [177, 17, 5, 3],\n",
              "  [173, 8, 9, 7],\n",
              "  [137, 2, 28, 14],\n",
              "  [244, 1, 7, 8],\n",
              "  [1, 1, 6, 6]])"
            ]
          },
          "metadata": {},
          "execution_count": 15
        }
      ]
    },
    {
      "cell_type": "code",
      "source": [
        "preprocess(\"/content/patch2.jpg\")"
      ],
      "metadata": {
        "id": "drcKt9zGu-Le"
      },
      "execution_count": null,
      "outputs": []
    },
    {
      "cell_type": "markdown",
      "source": [
        "# Labelling Functions"
      ],
      "metadata": {
        "id": "sNfeuSNtO8V3"
      }
    },
    {
      "cell_type": "code",
      "source": [
        "spacing = 0.25"
      ],
      "metadata": {
        "id": "e2YMXimAygvg"
      },
      "execution_count": null,
      "outputs": []
    },
    {
      "cell_type": "code",
      "source": [
        "# enum to hold the class labels\n",
        "class ClassLabels(enum.Enum):\n",
        "    NUC = 1\n",
        "    CEL = 0\n",
        "    RSC = 2"
      ],
      "metadata": {
        "id": "4pIYR8qZtGAP"
      },
      "execution_count": null,
      "outputs": []
    },
    {
      "cell_type": "code",
      "source": [
        "@labeling_function(label=ClassLabels.NUC)\n",
        "def nucleus(cropped): \n",
        "    cpd_img = cv2.imread(cropped)\n",
        "    h, w, c = cpd_img.shape\n",
        "    if h*w >10/(spacing**2) and h*w < 40/(spacing**2):\n",
        "      # print((h*w)*(spacing**2))\n",
        "      return ClassLabels.NUC\n",
        "    else:\n",
        "      return ABSTAIN"
      ],
      "metadata": {
        "id": "QFS2WfA8gDSo"
      },
      "execution_count": null,
      "outputs": []
    },
    {
      "cell_type": "code",
      "source": [
        "@labeling_function(label=ClassLabels.CEL)\n",
        "def cell(cropped): \n",
        "    cpd_img = cv2.imread(cropped)\n",
        "    h, w, c = cpd_img.shape\n",
        "    if h*w >70/(spacing**2):\n",
        "      return ClassLabels.CEL\n",
        "    else:\n",
        "      return ABSTAIN"
      ],
      "metadata": {
        "id": "-Y3Z_GjWqOzr"
      },
      "execution_count": null,
      "outputs": []
    },
    {
      "cell_type": "code",
      "source": [
        "@labeling_function(label=ClassLabels.RSC)\n",
        "def reed_steinberg(cropped): \n",
        "    cpd_img = cv2.imread(cropped)\n",
        "    h, w, c = cpd_img.shape\n",
        "    if h*w >40/(spacing**2) and h*w < 70/(spacing**2):\n",
        "      # print((h*w)*(spacing**2))\n",
        "      # cv2_imshow(cpd_img)\n",
        "      return ClassLabels.RSC\n",
        "    else:\n",
        "      return ABSTAIN"
      ],
      "metadata": {
        "id": "68ElIASo5iJd"
      },
      "execution_count": null,
      "outputs": []
    },
    {
      "cell_type": "code",
      "source": [
        "pname = \"/content/patches/patch2bbe6ddea-76c4-4e19-a12c-c964c182b184\"\n",
        "print(len(os.listdir(pname)))\n",
        "count = 0\n",
        "for fil in os.listdir(pname):\n",
        "  x = reed_steinberg(os.path.join(pname, fil))\n",
        "  if x[0]:\n",
        "    count+=1\n",
        "\n",
        "print(\"Count\", count)"
      ],
      "metadata": {
        "colab": {
          "base_uri": "https://localhost:8080/"
        },
        "id": "KfTJklUdy0Xc",
        "outputId": "adafa542-1ce3-4fcf-a997-afa65c176572"
      },
      "execution_count": null,
      "outputs": [
        {
          "output_type": "stream",
          "name": "stdout",
          "text": [
            "150\n",
            "Count 5\n"
          ]
        }
      ]
    },
    {
      "cell_type": "code",
      "source": [
        "from spear.labeling import LFSet\n",
        "\n",
        "LFS = [nucleus, cell, reed_steinberg]\n",
        "\n",
        "rules = LFSet(\"HL\")\n",
        "rules.add_lf_list(LFS)"
      ],
      "metadata": {
        "id": "d9azexZ03qWn"
      },
      "execution_count": null,
      "outputs": []
    },
    {
      "cell_type": "code",
      "source": [
        "from spear.labeling import PreLabels\n",
        "pname = \"/content/patches/patch2bbe6ddea-76c4-4e19-a12c-c964c182b184\"\n",
        "nucleus_labels = PreLabels(name=\"HL\",\n",
        "                               data=np.array([os.path.join(pname, fil) for fil in os.listdir(pname)]),\n",
        "                               rules=rules,\n",
        "                              #  gold_labels=np.ones(277),\n",
        "                               labels_enum=ClassLabels,\n",
        "                               num_classes=3)"
      ],
      "metadata": {
        "id": "4vSi-wm74iVm"
      },
      "execution_count": null,
      "outputs": []
    },
    {
      "cell_type": "code",
      "source": [
        "labels,S = nucleus_labels.get_labels()"
      ],
      "metadata": {
        "colab": {
          "base_uri": "https://localhost:8080/"
        },
        "id": "2K5H2BOWYtSs",
        "outputId": "eddd288f-40a6-41a3-e670-953380d1bcd8"
      },
      "execution_count": null,
      "outputs": [
        {
          "output_type": "stream",
          "name": "stderr",
          "text": [
            "100%|██████████| 150/150 [00:00<00:00, 4971.48it/s]\n"
          ]
        }
      ]
    },
    {
      "cell_type": "code",
      "source": [
        "labels"
      ],
      "metadata": {
        "colab": {
          "base_uri": "https://localhost:8080/"
        },
        "id": "79Crhqcwosze",
        "outputId": "9e44516a-8a8c-40a2-af4c-7c29964d2ffa"
      },
      "execution_count": null,
      "outputs": [
        {
          "output_type": "execute_result",
          "data": {
            "text/plain": [
              "array([[1, None, None],\n",
              "       [1, None, None],\n",
              "       [1, None, None],\n",
              "       [1, None, None],\n",
              "       [None, None, None],\n",
              "       [None, None, None],\n",
              "       [None, None, None],\n",
              "       [None, None, None],\n",
              "       [None, None, None],\n",
              "       [None, None, None],\n",
              "       [None, None, None],\n",
              "       [None, None, None],\n",
              "       [1, None, None],\n",
              "       [None, None, None],\n",
              "       [1, None, None],\n",
              "       [None, None, None],\n",
              "       [None, None, None],\n",
              "       [None, 0, None],\n",
              "       [None, None, None],\n",
              "       [None, None, None],\n",
              "       [None, None, None],\n",
              "       [None, None, None],\n",
              "       [None, None, None],\n",
              "       [1, None, None],\n",
              "       [None, None, None],\n",
              "       [1, None, None],\n",
              "       [None, None, 2],\n",
              "       [None, None, None],\n",
              "       [None, None, None],\n",
              "       [1, None, None],\n",
              "       [1, None, None],\n",
              "       [1, None, None],\n",
              "       [None, None, None],\n",
              "       [None, None, None],\n",
              "       [None, None, None],\n",
              "       [None, None, None],\n",
              "       [None, None, None],\n",
              "       [None, None, None],\n",
              "       [1, None, None],\n",
              "       [None, None, None],\n",
              "       [None, None, 2],\n",
              "       [None, None, None],\n",
              "       [None, None, None],\n",
              "       [None, None, None],\n",
              "       [1, None, None],\n",
              "       [None, None, None],\n",
              "       [None, None, 2],\n",
              "       [None, None, None],\n",
              "       [1, None, None],\n",
              "       [1, None, None],\n",
              "       [None, None, None],\n",
              "       [None, None, None],\n",
              "       [None, None, None],\n",
              "       [None, None, None],\n",
              "       [None, None, None],\n",
              "       [1, None, None],\n",
              "       [1, None, None],\n",
              "       [None, None, 2],\n",
              "       [None, None, None],\n",
              "       [None, None, None],\n",
              "       [None, None, None],\n",
              "       [1, None, None],\n",
              "       [1, None, None],\n",
              "       [None, None, None],\n",
              "       [None, None, None],\n",
              "       [1, None, None],\n",
              "       [None, None, None],\n",
              "       [None, None, None],\n",
              "       [None, None, None],\n",
              "       [1, None, None],\n",
              "       [1, None, None],\n",
              "       [1, None, None],\n",
              "       [None, None, None],\n",
              "       [None, 0, None],\n",
              "       [1, None, None],\n",
              "       [None, None, None],\n",
              "       [None, None, None],\n",
              "       [None, None, None],\n",
              "       [None, None, None],\n",
              "       [1, None, None],\n",
              "       [1, None, None],\n",
              "       [1, None, None],\n",
              "       [None, 0, None],\n",
              "       [1, None, None],\n",
              "       [1, None, None],\n",
              "       [None, None, None],\n",
              "       [None, None, None],\n",
              "       [None, None, None],\n",
              "       [1, None, None],\n",
              "       [1, None, None],\n",
              "       [None, None, None],\n",
              "       [1, None, None],\n",
              "       [None, None, None],\n",
              "       [None, 0, None],\n",
              "       [1, None, None],\n",
              "       [None, None, None],\n",
              "       [None, None, None],\n",
              "       [None, None, None],\n",
              "       [None, None, None],\n",
              "       [1, None, None],\n",
              "       [1, None, None],\n",
              "       [1, None, None],\n",
              "       [1, None, None],\n",
              "       [None, None, None],\n",
              "       [1, None, None],\n",
              "       [None, None, None],\n",
              "       [None, None, None],\n",
              "       [1, None, None],\n",
              "       [1, None, None],\n",
              "       [None, None, None],\n",
              "       [None, None, None],\n",
              "       [None, None, None],\n",
              "       [None, None, None],\n",
              "       [1, None, None],\n",
              "       [None, None, None],\n",
              "       [None, None, None],\n",
              "       [None, None, None],\n",
              "       [1, None, None],\n",
              "       [None, None, None],\n",
              "       [1, None, None],\n",
              "       [None, None, None],\n",
              "       [1, None, None],\n",
              "       [1, None, None],\n",
              "       [None, None, None],\n",
              "       [None, None, None],\n",
              "       [None, None, None],\n",
              "       [1, None, None],\n",
              "       [None, None, 2],\n",
              "       [1, None, None],\n",
              "       [None, None, None],\n",
              "       [1, None, None],\n",
              "       [None, None, None],\n",
              "       [None, None, None],\n",
              "       [None, None, None],\n",
              "       [1, None, None],\n",
              "       [1, None, None],\n",
              "       [1, None, None],\n",
              "       [None, None, None],\n",
              "       [None, None, None],\n",
              "       [None, None, None],\n",
              "       [1, None, None],\n",
              "       [None, None, None],\n",
              "       [None, None, None],\n",
              "       [1, None, None],\n",
              "       [1, None, None],\n",
              "       [None, None, None],\n",
              "       [None, None, None],\n",
              "       [None, None, None],\n",
              "       [None, None, None],\n",
              "       [None, None, None]], dtype=object)"
            ]
          },
          "metadata": {},
          "execution_count": 50
        }
      ]
    },
    {
      "cell_type": "code",
      "source": [
        "from spear.labeling import LFAnalysis\n",
        "analyse = nucleus_labels.analyse_lfs(plot=True)\n",
        "result = analyse.head(16)\n",
        "display(result)"
      ],
      "metadata": {
        "colab": {
          "base_uri": "https://localhost:8080/",
          "height": 365
        },
        "id": "gSx_rYz465IE",
        "outputId": "852feb94-aeac-420d-f3b1-c20b62536e2f"
      },
      "execution_count": null,
      "outputs": [
        {
          "output_type": "error",
          "ename": "TypeError",
          "evalue": "ignored",
          "traceback": [
            "\u001b[0;31m---------------------------------------------------------------------------\u001b[0m",
            "\u001b[0;31mTypeError\u001b[0m                                 Traceback (most recent call last)",
            "\u001b[0;32m<ipython-input-26-09c083e8f7d9>\u001b[0m in \u001b[0;36m<module>\u001b[0;34m\u001b[0m\n\u001b[1;32m      1\u001b[0m \u001b[0;32mfrom\u001b[0m \u001b[0mspear\u001b[0m\u001b[0;34m.\u001b[0m\u001b[0mlabeling\u001b[0m \u001b[0;32mimport\u001b[0m \u001b[0mLFAnalysis\u001b[0m\u001b[0;34m\u001b[0m\u001b[0;34m\u001b[0m\u001b[0m\n\u001b[0;32m----> 2\u001b[0;31m \u001b[0manalyse\u001b[0m \u001b[0;34m=\u001b[0m \u001b[0mnucleus_labels\u001b[0m\u001b[0;34m.\u001b[0m\u001b[0manalyse_lfs\u001b[0m\u001b[0;34m(\u001b[0m\u001b[0mplot\u001b[0m\u001b[0;34m=\u001b[0m\u001b[0;32mTrue\u001b[0m\u001b[0;34m)\u001b[0m\u001b[0;34m\u001b[0m\u001b[0;34m\u001b[0m\u001b[0m\n\u001b[0m\u001b[1;32m      3\u001b[0m \u001b[0mresult\u001b[0m \u001b[0;34m=\u001b[0m \u001b[0manalyse\u001b[0m\u001b[0;34m.\u001b[0m\u001b[0mhead\u001b[0m\u001b[0;34m(\u001b[0m\u001b[0;36m16\u001b[0m\u001b[0;34m)\u001b[0m\u001b[0;34m\u001b[0m\u001b[0;34m\u001b[0m\u001b[0m\n\u001b[1;32m      4\u001b[0m \u001b[0mdisplay\u001b[0m\u001b[0;34m(\u001b[0m\u001b[0mresult\u001b[0m\u001b[0;34m)\u001b[0m\u001b[0;34m\u001b[0m\u001b[0;34m\u001b[0m\u001b[0m\n",
            "\u001b[0;32m/usr/local/lib/python3.7/dist-packages/spear/labeling/prelabels/core.py\u001b[0m in \u001b[0;36manalyse_lfs\u001b[0;34m(self, plot)\u001b[0m\n\u001b[1;32m     90\u001b[0m         \u001b[0manalysis\u001b[0m \u001b[0;34m=\u001b[0m \u001b[0mLFAnalysis\u001b[0m\u001b[0;34m(\u001b[0m\u001b[0mself\u001b[0m\u001b[0;34m.\u001b[0m\u001b[0m_labels_enum\u001b[0m\u001b[0;34m,\u001b[0m\u001b[0mself\u001b[0m\u001b[0;34m.\u001b[0m\u001b[0m_L\u001b[0m\u001b[0;34m,\u001b[0m\u001b[0mself\u001b[0m\u001b[0;34m.\u001b[0m\u001b[0m_rules\u001b[0m\u001b[0;34m)\u001b[0m\u001b[0;34m\u001b[0m\u001b[0;34m\u001b[0m\u001b[0m\n\u001b[1;32m     91\u001b[0m         \u001b[0;32mif\u001b[0m \u001b[0mlen\u001b[0m\u001b[0;34m(\u001b[0m\u001b[0mself\u001b[0m\u001b[0;34m.\u001b[0m\u001b[0m_gold_labels\u001b[0m\u001b[0;34m)\u001b[0m \u001b[0;34m==\u001b[0m \u001b[0;36m0\u001b[0m\u001b[0;34m:\u001b[0m\u001b[0;34m\u001b[0m\u001b[0;34m\u001b[0m\u001b[0m\n\u001b[0;32m---> 92\u001b[0;31m             \u001b[0mdf\u001b[0m \u001b[0;34m=\u001b[0m \u001b[0manalysis\u001b[0m\u001b[0;34m.\u001b[0m\u001b[0mlf_summary\u001b[0m\u001b[0;34m(\u001b[0m\u001b[0mplot\u001b[0m\u001b[0;34m=\u001b[0m\u001b[0mplot\u001b[0m\u001b[0;34m)\u001b[0m\u001b[0;34m\u001b[0m\u001b[0;34m\u001b[0m\u001b[0m\n\u001b[0m\u001b[1;32m     93\u001b[0m         \u001b[0;32melse\u001b[0m\u001b[0;34m:\u001b[0m\u001b[0;34m\u001b[0m\u001b[0;34m\u001b[0m\u001b[0m\n\u001b[1;32m     94\u001b[0m             \u001b[0mdf\u001b[0m \u001b[0;34m=\u001b[0m \u001b[0manalysis\u001b[0m\u001b[0;34m.\u001b[0m\u001b[0mlf_summary\u001b[0m\u001b[0;34m(\u001b[0m\u001b[0mself\u001b[0m\u001b[0;34m.\u001b[0m\u001b[0m_gold_labels\u001b[0m\u001b[0;34m,\u001b[0m\u001b[0mplot\u001b[0m\u001b[0;34m=\u001b[0m\u001b[0mplot\u001b[0m\u001b[0;34m)\u001b[0m\u001b[0;34m\u001b[0m\u001b[0;34m\u001b[0m\u001b[0m\n",
            "\u001b[0;32m/usr/local/lib/python3.7/dist-packages/spear/labeling/analysis/core.py\u001b[0m in \u001b[0;36mlf_summary\u001b[0;34m(self, Y, plot)\u001b[0m\n\u001b[1;32m    320\u001b[0m \u001b[0;34m\u001b[0m\u001b[0m\n\u001b[1;32m    321\u001b[0m         \u001b[0;31m# Remap the true labels values\u001b[0m\u001b[0;34m\u001b[0m\u001b[0;34m\u001b[0m\u001b[0;34m\u001b[0m\u001b[0m\n\u001b[0;32m--> 322\u001b[0;31m         \u001b[0mY\u001b[0m \u001b[0;34m=\u001b[0m \u001b[0mnp\u001b[0m\u001b[0;34m.\u001b[0m\u001b[0marray\u001b[0m\u001b[0;34m(\u001b[0m\u001b[0;34m[\u001b[0m\u001b[0mself\u001b[0m\u001b[0;34m.\u001b[0m\u001b[0mmapping\u001b[0m\u001b[0;34m[\u001b[0m\u001b[0mv\u001b[0m\u001b[0;34m]\u001b[0m \u001b[0;32mfor\u001b[0m \u001b[0mv\u001b[0m \u001b[0;32min\u001b[0m \u001b[0mY\u001b[0m\u001b[0;34m]\u001b[0m\u001b[0;34m)\u001b[0m\u001b[0;34m\u001b[0m\u001b[0;34m\u001b[0m\u001b[0m\n\u001b[0m\u001b[1;32m    323\u001b[0m \u001b[0;34m\u001b[0m\u001b[0m\n\u001b[1;32m    324\u001b[0m         \u001b[0;31m# Default LF stats\u001b[0m\u001b[0;34m\u001b[0m\u001b[0;34m\u001b[0m\u001b[0;34m\u001b[0m\u001b[0m\n",
            "\u001b[0;31mTypeError\u001b[0m: 'NoneType' object is not iterable"
          ]
        }
      ]
    },
    {
      "cell_type": "markdown",
      "source": [
        "# Annotations in Label Studio Format"
      ],
      "metadata": {
        "id": "hM-Oid19Bqly"
      }
    },
    {
      "cell_type": "code",
      "source": [
        "def anns(patches,anns,labels):\n",
        "  ls_anns = []\n",
        "  id = 0\n",
        "  for patch in patches:\n",
        "    p_img = cv2.imread(patch)\n",
        "    h, w, c = p_img.shape\n",
        "\n",
        "    img_dict = {}\n",
        "    img_dict[\"id\"] = id\n",
        "    img_dict[\"data\"] = {\"image\": patch}\n",
        "    ann_id=0\n",
        "    res = [] \n",
        "    for ann in anns:\n",
        "      ann = {}\n",
        "      ann[\"image_rotation\"] = 0\n",
        "      ann[\"original_width\"] = w\n",
        "      ann[\"original_height\"] = h\n",
        "      ann[\"id\"] = ann_id\n",
        "      ann[\"from_name\"] = \"label\"\n",
        "      ann[\"to_name\"] = \"image\"\n",
        "      ann[\"type\"] = \"rectanglelabels\"\n",
        "      if 2 in labels[ann_id]:\n",
        "        label = \"RSC\"\n",
        "        ann_id+=1\n",
        "      elif 1 in labels[ann_id]:\n",
        "        label = \"Nucleus\"\n",
        "        ann_id+=1\n",
        "      else:\n",
        "        ann_id+=1\n",
        "        continue\n",
        "        \n",
        "      ann[\"value\"] = {\"x\": anns[ann_id][0],\"y\": anns[ann_id][1], \"width\": anns[ann_id][2],\"height\": anns[ann_id][3],\"rotation\": 0, \"rectanglelabels\": [label]}\n",
        "      res.append(ann)\n",
        "\n",
        "    img_dict[\"predictions\"] = [{\"id\": 1, \"model_version\": \"one\", \"created_ago\": \"0 minutes\", \"result\": res}]\n",
        "    ls_anns.append(img_dict)\n",
        "    id+=1\n",
        "  ls_json = json.dumps(ls_anns)\n",
        "  return ls_json"
      ],
      "metadata": {
        "id": "O1WlFkOqCEOW"
      },
      "execution_count": null,
      "outputs": []
    },
    {
      "cell_type": "markdown",
      "source": [
        "# Main Function"
      ],
      "metadata": {
        "id": "GTinXpPODUNL"
      }
    },
    {
      "cell_type": "code",
      "source": [
        "def main(patches):\n",
        "  for patch in patches:\n",
        "    # pname,boxes = preprocess(patch)\n",
        "    pname,boxes = contour_patch(\"/content/patch2.jpg\",\"/content/patch2bbe6ddea-76c4-4e19-a12c-c964c182b184.jpg\")\n",
        "    nucleus_labels = PreLabels(name=\"HL\",\n",
        "                               data=np.array([os.path.join(pname, fil) for fil in os.listdir(pname)]),\n",
        "                               rules=rules,\n",
        "                              #  gold_labels=np.ones(277),\n",
        "                               labels_enum=ClassLabels,\n",
        "                               num_classes=3)\n",
        "    labels,S = nucleus_labels.get_labels()\n",
        "    return anns(patches,boxes,labels)"
      ],
      "metadata": {
        "id": "1DypIJAgB-BA"
      },
      "execution_count": null,
      "outputs": []
    },
    {
      "cell_type": "code",
      "source": [
        "main([\"/content/patch2.jpg\"])"
      ],
      "metadata": {
        "colab": {
          "base_uri": "https://localhost:8080/",
          "height": 174
        },
        "id": "pVveUH_bg2jD",
        "outputId": "521d141b-3bb1-4bc8-eb12-c0f3d86d7ec1"
      },
      "execution_count": null,
      "outputs": [
        {
          "output_type": "stream",
          "name": "stderr",
          "text": [
            "100%|██████████| 150/150 [00:00<00:00, 5814.06it/s]\n"
          ]
        },
        {
          "output_type": "execute_result",
          "data": {
            "text/plain": [
              "'[{\"id\": 0, \"data\": {\"image\": \"/content/patch2.jpg\"}, \"predictions\": [{\"id\": 1, \"model_version\": \"one\", \"created_ago\": \"0 minutes\", \"result\": [{\"image_rotation\": 0, \"original_width\": 370, \"original_height\": 370, \"id\": 0, \"from_name\": \"label\", \"to_name\": \"image\", \"type\": \"rectanglelabels\", \"value\": {\"x\": 69, \"y\": 366, \"width\": 4, \"height\": 3, \"rotation\": 0, \"rectanglelabels\": [\"Nucleus\"]}}, {\"image_rotation\": 0, \"original_width\": 370, \"original_height\": 370, \"id\": 1, \"from_name\": \"label\", \"to_name\": \"image\", \"type\": \"rectanglelabels\", \"value\": {\"x\": 17, \"y\": 364, \"width\": 11, \"height\": 5, \"rotation\": 0, \"rectanglelabels\": [\"Nucleus\"]}}, {\"image_rotation\": 0, \"original_width\": 370, \"original_height\": 370, \"id\": 2, \"from_name\": \"label\", \"to_name\": \"image\", \"type\": \"rectanglelabels\", \"value\": {\"x\": 194, \"y\": 363, \"width\": 3, \"height\": 3, \"rotation\": 0, \"rectanglelabels\": [\"Nucleus\"]}}, {\"image_rotation\": 0, \"original_width\": 370, \"original_height\": 370, \"id\": 3, \"from_name\": \"label\", \"to_name\": \"image\", \"type\": \"rectanglelabels\", \"value\": {\"x\": 60, \"y\": 360, \"width\": 9, \"height\": 8, \"rotation\": 0, \"rectanglelabels\": [\"Nucleus\"]}}, {\"image_rotation\": 0, \"original_width\": 370, \"original_height\": 370, \"id\": 12, \"from_name\": \"label\", \"to_name\": \"image\", \"type\": \"rectanglelabels\", \"value\": {\"x\": 269, \"y\": 326, \"width\": 14, \"height\": 19, \"rotation\": 0, \"rectanglelabels\": [\"Nucleus\"]}}, {\"image_rotation\": 0, \"original_width\": 370, \"original_height\": 370, \"id\": 14, \"from_name\": \"label\", \"to_name\": \"image\", \"type\": \"rectanglelabels\", \"value\": {\"x\": 263, \"y\": 325, \"width\": 9, \"height\": 9, \"rotation\": 0, \"rectanglelabels\": [\"Nucleus\"]}}, {\"image_rotation\": 0, \"original_width\": 370, \"original_height\": 370, \"id\": 23, \"from_name\": \"label\", \"to_name\": \"image\", \"type\": \"rectanglelabels\", \"value\": {\"x\": 134, \"y\": 306, \"width\": 5, \"height\": 4, \"rotation\": 0, \"rectanglelabels\": [\"Nucleus\"]}}, {\"image_rotation\": 0, \"original_width\": 370, \"original_height\": 370, \"id\": 25, \"from_name\": \"label\", \"to_name\": \"image\", \"type\": \"rectanglelabels\", \"value\": {\"x\": 26, \"y\": 301, \"width\": 9, \"height\": 10, \"rotation\": 0, \"rectanglelabels\": [\"Nucleus\"]}}, {\"image_rotation\": 0, \"original_width\": 370, \"original_height\": 370, \"id\": 26, \"from_name\": \"label\", \"to_name\": \"image\", \"type\": \"rectanglelabels\", \"value\": {\"x\": 245, \"y\": 295, \"width\": 3, \"height\": 4, \"rotation\": 0, \"rectanglelabels\": [\"RSC\"]}}, {\"image_rotation\": 0, \"original_width\": 370, \"original_height\": 370, \"id\": 29, \"from_name\": \"label\", \"to_name\": \"image\", \"type\": \"rectanglelabels\", \"value\": {\"x\": 300, \"y\": 282, \"width\": 16, \"height\": 21, \"rotation\": 0, \"rectanglelabels\": [\"Nucleus\"]}}, {\"image_rotation\": 0, \"original_width\": 370, \"original_height\": 370, \"id\": 30, \"from_name\": \"label\", \"to_name\": \"image\", \"type\": \"rectanglelabels\", \"value\": {\"x\": 32, \"y\": 282, \"width\": 20, \"height\": 22, \"rotation\": 0, \"rectanglelabels\": [\"Nucleus\"]}}, {\"image_rotation\": 0, \"original_width\": 370, \"original_height\": 370, \"id\": 31, \"from_name\": \"label\", \"to_name\": \"image\", \"type\": \"rectanglelabels\", \"value\": {\"x\": 187, \"y\": 278, \"width\": 24, \"height\": 20, \"rotation\": 0, \"rectanglelabels\": [\"Nucleus\"]}}, {\"image_rotation\": 0, \"original_width\": 370, \"original_height\": 370, \"id\": 38, \"from_name\": \"label\", \"to_name\": \"image\", \"type\": \"rectanglelabels\", \"value\": {\"x\": 138, \"y\": 258, \"width\": 6, \"height\": 9, \"rotation\": 0, \"rectanglelabels\": [\"Nucleus\"]}}, {\"image_rotation\": 0, \"original_width\": 370, \"original_height\": 370, \"id\": 40, \"from_name\": \"label\", \"to_name\": \"image\", \"type\": \"rectanglelabels\", \"value\": {\"x\": 206, \"y\": 252, \"width\": 5, \"height\": 3, \"rotation\": 0, \"rectanglelabels\": [\"RSC\"]}}, {\"image_rotation\": 0, \"original_width\": 370, \"original_height\": 370, \"id\": 44, \"from_name\": \"label\", \"to_name\": \"image\", \"type\": \"rectanglelabels\", \"value\": {\"x\": 160, \"y\": 249, \"width\": 16, \"height\": 22, \"rotation\": 0, \"rectanglelabels\": [\"Nucleus\"]}}, {\"image_rotation\": 0, \"original_width\": 370, \"original_height\": 370, \"id\": 46, \"from_name\": \"label\", \"to_name\": \"image\", \"type\": \"rectanglelabels\", \"value\": {\"x\": 198, \"y\": 248, \"width\": 9, \"height\": 7, \"rotation\": 0, \"rectanglelabels\": [\"RSC\"]}}, {\"image_rotation\": 0, \"original_width\": 370, \"original_height\": 370, \"id\": 48, \"from_name\": \"label\", \"to_name\": \"image\", \"type\": \"rectanglelabels\", \"value\": {\"x\": 93, \"y\": 245, \"width\": 28, \"height\": 23, \"rotation\": 0, \"rectanglelabels\": [\"Nucleus\"]}}, {\"image_rotation\": 0, \"original_width\": 370, \"original_height\": 370, \"id\": 49, \"from_name\": \"label\", \"to_name\": \"image\", \"type\": \"rectanglelabels\", \"value\": {\"x\": 195, \"y\": 241, \"width\": 4, \"height\": 3, \"rotation\": 0, \"rectanglelabels\": [\"Nucleus\"]}}, {\"image_rotation\": 0, \"original_width\": 370, \"original_height\": 370, \"id\": 55, \"from_name\": \"label\", \"to_name\": \"image\", \"type\": \"rectanglelabels\", \"value\": {\"x\": 196, \"y\": 228, \"width\": 24, \"height\": 12, \"rotation\": 0, \"rectanglelabels\": [\"Nucleus\"]}}, {\"image_rotation\": 0, \"original_width\": 370, \"original_height\": 370, \"id\": 56, \"from_name\": \"label\", \"to_name\": \"image\", \"type\": \"rectanglelabels\", \"value\": {\"x\": 53, \"y\": 228, \"width\": 4, \"height\": 6, \"rotation\": 0, \"rectanglelabels\": [\"Nucleus\"]}}, {\"image_rotation\": 0, \"original_width\": 370, \"original_height\": 370, \"id\": 57, \"from_name\": \"label\", \"to_name\": \"image\", \"type\": \"rectanglelabels\", \"value\": {\"x\": 225, \"y\": 227, \"width\": 21, \"height\": 21, \"rotation\": 0, \"rectanglelabels\": [\"RSC\"]}}, {\"image_rotation\": 0, \"original_width\": 370, \"original_height\": 370, \"id\": 61, \"from_name\": \"label\", \"to_name\": \"image\", \"type\": \"rectanglelabels\", \"value\": {\"x\": 217, \"y\": 218, \"width\": 3, \"height\": 3, \"rotation\": 0, \"rectanglelabels\": [\"Nucleus\"]}}, {\"image_rotation\": 0, \"original_width\": 370, \"original_height\": 370, \"id\": 62, \"from_name\": \"label\", \"to_name\": \"image\", \"type\": \"rectanglelabels\", \"value\": {\"x\": 110, \"y\": 215, \"width\": 4, \"height\": 5, \"rotation\": 0, \"rectanglelabels\": [\"Nucleus\"]}}, {\"image_rotation\": 0, \"original_width\": 370, \"original_height\": 370, \"id\": 65, \"from_name\": \"label\", \"to_name\": \"image\", \"type\": \"rectanglelabels\", \"value\": {\"x\": 203, \"y\": 206, \"width\": 26, \"height\": 15, \"rotation\": 0, \"rectanglelabels\": [\"Nucleus\"]}}, {\"image_rotation\": 0, \"original_width\": 370, \"original_height\": 370, \"id\": 69, \"from_name\": \"label\", \"to_name\": \"image\", \"type\": \"rectanglelabels\", \"value\": {\"x\": 86, \"y\": 199, \"width\": 4, \"height\": 4, \"rotation\": 0, \"rectanglelabels\": [\"Nucleus\"]}}, {\"image_rotation\": 0, \"original_width\": 370, \"original_height\": 370, \"id\": 70, \"from_name\": \"label\", \"to_name\": \"image\", \"type\": \"rectanglelabels\", \"value\": {\"x\": 165, \"y\": 193, \"width\": 6, \"height\": 7, \"rotation\": 0, \"rectanglelabels\": [\"Nucleus\"]}}, {\"image_rotation\": 0, \"original_width\": 370, \"original_height\": 370, \"id\": 71, \"from_name\": \"label\", \"to_name\": \"image\", \"type\": \"rectanglelabels\", \"value\": {\"x\": 215, \"y\": 192, \"width\": 6, \"height\": 8, \"rotation\": 0, \"rectanglelabels\": [\"Nucleus\"]}}, {\"image_rotation\": 0, \"original_width\": 370, \"original_height\": 370, \"id\": 74, \"from_name\": \"label\", \"to_name\": \"image\", \"type\": \"rectanglelabels\", \"value\": {\"x\": 255, \"y\": 191, \"width\": 20, \"height\": 23, \"rotation\": 0, \"rectanglelabels\": [\"Nucleus\"]}}, {\"image_rotation\": 0, \"original_width\": 370, \"original_height\": 370, \"id\": 79, \"from_name\": \"label\", \"to_name\": \"image\", \"type\": \"rectanglelabels\", \"value\": {\"x\": 219, \"y\": 182, \"width\": 9, \"height\": 5, \"rotation\": 0, \"rectanglelabels\": [\"Nucleus\"]}}, {\"image_rotation\": 0, \"original_width\": 370, \"original_height\": 370, \"id\": 80, \"from_name\": \"label\", \"to_name\": \"image\", \"type\": \"rectanglelabels\", \"value\": {\"x\": 100, \"y\": 181, \"width\": 22, \"height\": 22, \"rotation\": 0, \"rectanglelabels\": [\"Nucleus\"]}}, {\"image_rotation\": 0, \"original_width\": 370, \"original_height\": 370, \"id\": 81, \"from_name\": \"label\", \"to_name\": \"image\", \"type\": \"rectanglelabels\", \"value\": {\"x\": 31, \"y\": 179, \"width\": 3, \"height\": 3, \"rotation\": 0, \"rectanglelabels\": [\"Nucleus\"]}}, {\"image_rotation\": 0, \"original_width\": 370, \"original_height\": 370, \"id\": 83, \"from_name\": \"label\", \"to_name\": \"image\", \"type\": \"rectanglelabels\", \"value\": {\"x\": 320, \"y\": 175, \"width\": 7, \"height\": 5, \"rotation\": 0, \"rectanglelabels\": [\"Nucleus\"]}}, {\"image_rotation\": 0, \"original_width\": 370, \"original_height\": 370, \"id\": 84, \"from_name\": \"label\", \"to_name\": \"image\", \"type\": \"rectanglelabels\", \"value\": {\"x\": 326, \"y\": 174, \"width\": 6, \"height\": 5, \"rotation\": 0, \"rectanglelabels\": [\"Nucleus\"]}}, {\"image_rotation\": 0, \"original_width\": 370, \"original_height\": 370, \"id\": 88, \"from_name\": \"label\", \"to_name\": \"image\", \"type\": \"rectanglelabels\", \"value\": {\"x\": 246, \"y\": 169, \"width\": 22, \"height\": 14, \"rotation\": 0, \"rectanglelabels\": [\"Nucleus\"]}}, {\"image_rotation\": 0, \"original_width\": 370, \"original_height\": 370, \"id\": 89, \"from_name\": \"label\", \"to_name\": \"image\", \"type\": \"rectanglelabels\", \"value\": {\"x\": 329, \"y\": 168, \"width\": 7, \"height\": 7, \"rotation\": 0, \"rectanglelabels\": [\"Nucleus\"]}}, {\"image_rotation\": 0, \"original_width\": 370, \"original_height\": 370, \"id\": 91, \"from_name\": \"label\", \"to_name\": \"image\", \"type\": \"rectanglelabels\", \"value\": {\"x\": 138, \"y\": 165, \"width\": 21, \"height\": 23, \"rotation\": 0, \"rectanglelabels\": [\"Nucleus\"]}}, {\"image_rotation\": 0, \"original_width\": 370, \"original_height\": 370, \"id\": 94, \"from_name\": \"label\", \"to_name\": \"image\", \"type\": \"rectanglelabels\", \"value\": {\"x\": 318, \"y\": 157, \"width\": 12, \"height\": 7, \"rotation\": 0, \"rectanglelabels\": [\"Nucleus\"]}}, {\"image_rotation\": 0, \"original_width\": 370, \"original_height\": 370, \"id\": 99, \"from_name\": \"label\", \"to_name\": \"image\", \"type\": \"rectanglelabels\", \"value\": {\"x\": 168, \"y\": 146, \"width\": 5, \"height\": 4, \"rotation\": 0, \"rectanglelabels\": [\"Nucleus\"]}}, {\"image_rotation\": 0, \"original_width\": 370, \"original_height\": 370, \"id\": 100, \"from_name\": \"label\", \"to_name\": \"image\", \"type\": \"rectanglelabels\", \"value\": {\"x\": 311, \"y\": 141, \"width\": 11, \"height\": 10, \"rotation\": 0, \"rectanglelabels\": [\"Nucleus\"]}}, {\"image_rotation\": 0, \"original_width\": 370, \"original_height\": 370, \"id\": 101, \"from_name\": \"label\", \"to_name\": \"image\", \"type\": \"rectanglelabels\", \"value\": {\"x\": 99, \"y\": 132, \"width\": 7, \"height\": 5, \"rotation\": 0, \"rectanglelabels\": [\"Nucleus\"]}}, {\"image_rotation\": 0, \"original_width\": 370, \"original_height\": 370, \"id\": 102, \"from_name\": \"label\", \"to_name\": \"image\", \"type\": \"rectanglelabels\", \"value\": {\"x\": 151, \"y\": 130, \"width\": 11, \"height\": 8, \"rotation\": 0, \"rectanglelabels\": [\"Nucleus\"]}}, {\"image_rotation\": 0, \"original_width\": 370, \"original_height\": 370, \"id\": 104, \"from_name\": \"label\", \"to_name\": \"image\", \"type\": \"rectanglelabels\", \"value\": {\"x\": 44, \"y\": 128, \"width\": 25, \"height\": 21, \"rotation\": 0, \"rectanglelabels\": [\"Nucleus\"]}}, {\"image_rotation\": 0, \"original_width\": 370, \"original_height\": 370, \"id\": 107, \"from_name\": \"label\", \"to_name\": \"image\", \"type\": \"rectanglelabels\", \"value\": {\"x\": 99, \"y\": 121, \"width\": 5, \"height\": 5, \"rotation\": 0, \"rectanglelabels\": [\"Nucleus\"]}}, {\"image_rotation\": 0, \"original_width\": 370, \"original_height\": 370, \"id\": 108, \"from_name\": \"label\", \"to_name\": \"image\", \"type\": \"rectanglelabels\", \"value\": {\"x\": 105, \"y\": 116, \"width\": 7, \"height\": 5, \"rotation\": 0, \"rectanglelabels\": [\"Nucleus\"]}}, {\"image_rotation\": 0, \"original_width\": 370, \"original_height\": 370, \"id\": 113, \"from_name\": \"label\", \"to_name\": \"image\", \"type\": \"rectanglelabels\", \"value\": {\"x\": 133, \"y\": 113, \"width\": 3, \"height\": 3, \"rotation\": 0, \"rectanglelabels\": [\"Nucleus\"]}}, {\"image_rotation\": 0, \"original_width\": 370, \"original_height\": 370, \"id\": 117, \"from_name\": \"label\", \"to_name\": \"image\", \"type\": \"rectanglelabels\", \"value\": {\"x\": 170, \"y\": 104, \"width\": 26, \"height\": 16, \"rotation\": 0, \"rectanglelabels\": [\"Nucleus\"]}}, {\"image_rotation\": 0, \"original_width\": 370, \"original_height\": 370, \"id\": 119, \"from_name\": \"label\", \"to_name\": \"image\", \"type\": \"rectanglelabels\", \"value\": {\"x\": 84, \"y\": 101, \"width\": 23, \"height\": 19, \"rotation\": 0, \"rectanglelabels\": [\"Nucleus\"]}}, {\"image_rotation\": 0, \"original_width\": 370, \"original_height\": 370, \"id\": 121, \"from_name\": \"label\", \"to_name\": \"image\", \"type\": \"rectanglelabels\", \"value\": {\"x\": 141, \"y\": 92, \"width\": 24, \"height\": 24, \"rotation\": 0, \"rectanglelabels\": [\"Nucleus\"]}}, {\"image_rotation\": 0, \"original_width\": 370, \"original_height\": 370, \"id\": 122, \"from_name\": \"label\", \"to_name\": \"image\", \"type\": \"rectanglelabels\", \"value\": {\"x\": 165, \"y\": 79, \"width\": 29, \"height\": 20, \"rotation\": 0, \"rectanglelabels\": [\"Nucleus\"]}}, {\"image_rotation\": 0, \"original_width\": 370, \"original_height\": 370, \"id\": 126, \"from_name\": \"label\", \"to_name\": \"image\", \"type\": \"rectanglelabels\", \"value\": {\"x\": 7, \"y\": 69, \"width\": 22, \"height\": 21, \"rotation\": 0, \"rectanglelabels\": [\"Nucleus\"]}}, {\"image_rotation\": 0, \"original_width\": 370, \"original_height\": 370, \"id\": 127, \"from_name\": \"label\", \"to_name\": \"image\", \"type\": \"rectanglelabels\", \"value\": {\"x\": 100, \"y\": 58, \"width\": 21, \"height\": 20, \"rotation\": 0, \"rectanglelabels\": [\"RSC\"]}}, {\"image_rotation\": 0, \"original_width\": 370, \"original_height\": 370, \"id\": 128, \"from_name\": \"label\", \"to_name\": \"image\", \"type\": \"rectanglelabels\", \"value\": {\"x\": 112, \"y\": 66, \"width\": 2, \"height\": 2, \"rotation\": 0, \"rectanglelabels\": [\"Nucleus\"]}}, {\"image_rotation\": 0, \"original_width\": 370, \"original_height\": 370, \"id\": 130, \"from_name\": \"label\", \"to_name\": \"image\", \"type\": \"rectanglelabels\", \"value\": {\"x\": 74, \"y\": 54, \"width\": 4, \"height\": 4, \"rotation\": 0, \"rectanglelabels\": [\"Nucleus\"]}}, {\"image_rotation\": 0, \"original_width\": 370, \"original_height\": 370, \"id\": 134, \"from_name\": \"label\", \"to_name\": \"image\", \"type\": \"rectanglelabels\", \"value\": {\"x\": 214, \"y\": 43, \"width\": 13, \"height\": 20, \"rotation\": 0, \"rectanglelabels\": [\"Nucleus\"]}}, {\"image_rotation\": 0, \"original_width\": 370, \"original_height\": 370, \"id\": 135, \"from_name\": \"label\", \"to_name\": \"image\", \"type\": \"rectanglelabels\", \"value\": {\"x\": 302, \"y\": 37, \"width\": 6, \"height\": 7, \"rotation\": 0, \"rectanglelabels\": [\"Nucleus\"]}}, {\"image_rotation\": 0, \"original_width\": 370, \"original_height\": 370, \"id\": 136, \"from_name\": \"label\", \"to_name\": \"image\", \"type\": \"rectanglelabels\", \"value\": {\"x\": 115, \"y\": 33, \"width\": 10, \"height\": 10, \"rotation\": 0, \"rectanglelabels\": [\"Nucleus\"]}}, {\"image_rotation\": 0, \"original_width\": 370, \"original_height\": 370, \"id\": 140, \"from_name\": \"label\", \"to_name\": \"image\", \"type\": \"rectanglelabels\", \"value\": {\"x\": 148, \"y\": 15, \"width\": 26, \"height\": 28, \"rotation\": 0, \"rectanglelabels\": [\"Nucleus\"]}}, {\"image_rotation\": 0, \"original_width\": 370, \"original_height\": 370, \"id\": 143, \"from_name\": \"label\", \"to_name\": \"image\", \"type\": \"rectanglelabels\", \"value\": {\"x\": 169, \"y\": 4, \"width\": 25, \"height\": 19, \"rotation\": 0, \"rectanglelabels\": [\"Nucleus\"]}}, {\"image_rotation\": 0, \"original_width\": 370, \"original_height\": 370, \"id\": 144, \"from_name\": \"label\", \"to_name\": \"image\", \"type\": \"rectanglelabels\", \"value\": {\"x\": 177, \"y\": 17, \"width\": 5, \"height\": 3, \"rotation\": 0, \"rectanglelabels\": [\"Nucleus\"]}}]}]}]'"
            ],
            "application/vnd.google.colaboratory.intrinsic+json": {
              "type": "string"
            }
          },
          "metadata": {},
          "execution_count": 77
        }
      ]
    },
    {
      "cell_type": "markdown",
      "source": [
        "# Extras"
      ],
      "metadata": {
        "id": "y1s6kFmAPGXf"
      }
    },
    {
      "cell_type": "code",
      "source": [
        "!python3 /content/contour.py --input /content/patch27b9b7c84abe44a3eaf1b5f834238aa6e.jpg"
      ],
      "metadata": {
        "id": "3u74YtBnkvyW",
        "colab": {
          "base_uri": "https://localhost:8080/"
        },
        "outputId": "dfbdc6ad-3b51-4fd9-9e15-9423d8d6ad82"
      },
      "execution_count": null,
      "outputs": [
        {
          "output_type": "stream",
          "name": "stdout",
          "text": [
            "<class 'builtin_function_or_method'>\n",
            "[358, 366, 5, 2]\n",
            "[126, 366, 1, 1]\n",
            "[17, 365, 11, 4]\n",
            "[135, 363, 4, 5]\n",
            "[245, 362, 16, 8]\n",
            "[185, 360, 1, 1]\n",
            "[188, 359, 25, 9]\n",
            "[127, 358, 1, 1]\n",
            "[134, 357, 4, 4]\n",
            "[121, 357, 11, 9]\n",
            "[180, 356, 7, 2]\n",
            "[54, 353, 21, 15]\n",
            "[124, 350, 8, 7]\n",
            "[1, 349, 6, 6]\n",
            "[2, 348, 1, 2]\n",
            "[309, 347, 1, 1]\n",
            "[311, 345, 1, 1]\n",
            "[238, 341, 16, 16]\n",
            "[73, 335, 20, 20]\n",
            "[335, 334, 9, 10]\n",
            "[170, 333, 19, 18]\n",
            "[48, 333, 1, 1]\n",
            "[79, 332, 1, 1]\n",
            "[198, 329, 17, 20]\n",
            "[205, 342, 4, 4]\n",
            "[263, 326, 20, 21]\n",
            "[265, 328, 11, 11]\n",
            "[271, 331, 1, 1]\n",
            "[142, 324, 1, 1]\n",
            "[94, 323, 1, 1]\n",
            "[312, 321, 1, 1]\n",
            "[314, 320, 1, 1]\n",
            "[259, 319, 1, 1]\n",
            "[105, 319, 1, 1]\n",
            "[294, 318, 36, 30]\n",
            "[319, 332, 5, 6]\n",
            "[105, 316, 1, 1]\n",
            "[50, 316, 20, 24]\n",
            "[262, 314, 6, 6]\n",
            "[104, 313, 37, 32]\n",
            "[138, 310, 1, 1]\n",
            "[133, 310, 1, 1]\n",
            "[74, 309, 20, 21]\n",
            "[142, 308, 1, 1]\n",
            "[129, 308, 1, 1]\n",
            "[17, 308, 2, 3]\n",
            "[208, 307, 15, 12]\n",
            "[68, 304, 1, 2]\n",
            "[20, 301, 14, 15]\n",
            "[26, 310, 7, 4]\n",
            "[24, 306, 4, 4]\n",
            "[151, 300, 1, 1]\n",
            "[69, 293, 13, 15]\n",
            "[240, 292, 14, 14]\n",
            "[245, 300, 3, 3]\n",
            "[246, 299, 3, 3]\n",
            "[130, 289, 2, 2]\n",
            "[89, 289, 28, 27]\n",
            "[115, 288, 1, 1]\n",
            "[64, 288, 3, 4]\n",
            "[357, 285, 2, 2]\n",
            "[355, 285, 1, 1]\n",
            "[353, 285, 1, 1]\n",
            "[160, 285, 1, 1]\n",
            "[129, 284, 22, 25]\n",
            "[133, 302, 6, 5]\n",
            "[300, 282, 16, 20]\n",
            "[141, 282, 1, 1]\n",
            "[325, 281, 2, 2]\n",
            "[174, 281, 1, 1]\n",
            "[47, 281, 1, 1]\n",
            "[32, 281, 22, 27]\n",
            "[357, 280, 2, 3]\n",
            "[354, 280, 1, 2]\n",
            "[187, 278, 24, 20]\n",
            "[162, 274, 11, 19]\n",
            "[29, 270, 1, 1]\n",
            "[221, 269, 22, 19]\n",
            "[130, 269, 1, 1]\n",
            "[128, 267, 1, 1]\n",
            "[263, 263, 19, 28]\n",
            "[214, 260, 1, 1]\n",
            "[194, 257, 19, 16]\n",
            "[207, 262, 3, 3]\n",
            "[199, 261, 8, 6]\n",
            "[233, 256, 1, 1]\n",
            "[291, 255, 5, 14]\n",
            "[53, 255, 1, 1]\n",
            "[234, 254, 13, 11]\n",
            "[132, 254, 1, 1]\n",
            "[126, 254, 19, 18]\n",
            "[58, 251, 11, 5]\n",
            "[11, 251, 22, 18]\n",
            "[160, 250, 16, 21]\n",
            "[69, 249, 1, 1]\n",
            "[128, 248, 5, 5]\n",
            "[53, 248, 1, 1]\n",
            "[93, 245, 29, 23]\n",
            "[49, 240, 14, 15]\n",
            "[221, 237, 1, 1]\n",
            "[317, 233, 27, 18]\n",
            "[346, 230, 17, 18]\n",
            "[254, 230, 19, 22]\n",
            "[195, 228, 26, 27]\n",
            "[198, 232, 20, 21]\n",
            "[206, 249, 1, 1]\n",
            "[225, 227, 20, 21]\n",
            "[43, 227, 14, 12]\n",
            "[289, 225, 1, 1]\n",
            "[52, 225, 1, 1]\n",
            "[291, 221, 23, 22]\n",
            "[184, 213, 1, 1]\n",
            "[1, 212, 1, 1]\n",
            "[115, 208, 1, 1]\n",
            "[100, 208, 16, 13]\n",
            "[315, 207, 21, 17]\n",
            "[203, 206, 27, 18]\n",
            "[3, 206, 21, 21]\n",
            "[9, 216, 6, 4]\n",
            "[94, 205, 1, 1]\n",
            "[90, 205, 1, 2]\n",
            "[272, 204, 19, 16]\n",
            "[93, 203, 1, 1]\n",
            "[163, 202, 5, 4]\n",
            "[81, 202, 1, 1]\n",
            "[154, 199, 1, 1]\n",
            "[99, 199, 1, 1]\n",
            "[176, 198, 1, 1]\n",
            "[157, 198, 1, 1]\n",
            "[329, 197, 1, 1]\n",
            "[178, 196, 1, 1]\n",
            "[164, 193, 8, 9]\n",
            "[211, 192, 1, 1]\n",
            "[178, 192, 27, 20]\n",
            "[174, 192, 1, 1]\n",
            "[25, 191, 12, 12]\n",
            "[154, 188, 14, 9]\n",
            "[74, 187, 24, 18]\n",
            "[87, 190, 7, 6]\n",
            "[99, 186, 1, 1]\n",
            "[90, 184, 1, 1]\n",
            "[214, 181, 20, 19]\n",
            "[100, 179, 22, 23]\n",
            "[332, 178, 18, 32]\n",
            "[115, 178, 1, 1]\n",
            "[118, 177, 1, 1]\n",
            "[110, 175, 1, 1]\n",
            "[190, 171, 9, 8]\n",
            "[8, 169, 1, 1]\n",
            "[139, 168, 1, 1]\n",
            "[139, 165, 20, 23]\n",
            "[246, 164, 34, 50]\n",
            "[28, 160, 1, 1]\n",
            "[315, 157, 21, 22]\n",
            "[93, 156, 18, 20]\n",
            "[320, 155, 1, 1]\n",
            "[23, 155, 1, 1]\n",
            "[174, 151, 1, 1]\n",
            "[353, 150, 15, 21]\n",
            "[167, 150, 25, 20]\n",
            "[2, 150, 40, 37]\n",
            "[21, 174, 6, 5]\n",
            "[27, 168, 8, 12]\n",
            "[175, 148, 1, 1]\n",
            "[163, 146, 2, 1]\n",
            "[167, 141, 4, 3]\n",
            "[313, 139, 1, 1]\n",
            "[309, 138, 14, 15]\n",
            "[316, 138, 3, 3]\n",
            "[313, 137, 1, 1]\n",
            "[145, 136, 1, 1]\n",
            "[127, 133, 1, 1]\n",
            "[248, 129, 5, 3]\n",
            "[149, 129, 26, 24]\n",
            "[45, 129, 24, 19]\n",
            "[241, 126, 1, 1]\n",
            "[55, 124, 1, 1]\n",
            "[354, 120, 2, 3]\n",
            "[169, 119, 1, 1]\n",
            "[46, 119, 9, 4]\n",
            "[308, 118, 4, 3]\n",
            "[278, 118, 20, 27]\n",
            "[195, 114, 23, 18]\n",
            "[206, 121, 5, 5]\n",
            "[141, 109, 1, 1]\n",
            "[63, 107, 11, 9]\n",
            "[103, 105, 1, 1]\n",
            "[168, 104, 30, 17]\n",
            "[186, 111, 5, 3]\n",
            "[170, 106, 3, 4]\n",
            "[316, 103, 18, 17]\n",
            "[85, 102, 64, 36]\n",
            "[99, 124, 6, 9]\n",
            "[103, 115, 24, 21]\n",
            "[234, 98, 22, 28]\n",
            "[246, 108, 9, 8]\n",
            "[361, 97, 9, 10]\n",
            "[362, 97, 1, 1]\n",
            "[140, 96, 1, 1]\n",
            "[114, 95, 1, 1]\n",
            "[141, 92, 24, 24]\n",
            "[126, 92, 1, 1]\n",
            "[309, 90, 1, 1]\n",
            "[301, 89, 7, 8]\n",
            "[365, 87, 3, 1]\n",
            "[150, 82, 2, 2]\n",
            "[278, 80, 1, 1]\n",
            "[164, 80, 30, 19]\n",
            "[257, 77, 21, 30]\n",
            "[112, 76, 18, 20]\n",
            "[118, 73, 1, 1]\n",
            "[126, 71, 1, 1]\n",
            "[8, 70, 26, 24]\n",
            "[126, 66, 1, 1]\n",
            "[360, 60, 10, 15]\n",
            "[106, 59, 1, 1]\n",
            "[204, 57, 2, 2]\n",
            "[101, 57, 21, 22]\n",
            "[62, 54, 18, 10]\n",
            "[65, 53, 1, 1]\n",
            "[204, 50, 1, 4]\n",
            "[169, 50, 1, 1]\n",
            "[228, 49, 1, 1]\n",
            "[172, 49, 7, 3]\n",
            "[174, 48, 1, 1]\n",
            "[171, 48, 1, 1]\n",
            "[205, 47, 3, 1]\n",
            "[32, 47, 24, 23]\n",
            "[112, 44, 1, 1]\n",
            "[208, 39, 4, 4]\n",
            "[174, 38, 1, 1]\n",
            "[299, 36, 10, 9]\n",
            "[212, 36, 4, 2]\n",
            "[340, 33, 1, 1]\n",
            "[318, 32, 41, 34]\n",
            "[308, 32, 1, 1]\n",
            "[126, 32, 1, 1]\n",
            "[110, 32, 15, 11]\n",
            "[214, 27, 27, 36]\n",
            "[294, 26, 1, 1]\n",
            "[282, 24, 8, 7]\n",
            "[117, 24, 4, 5]\n",
            "[339, 23, 3, 2]\n",
            "[16, 22, 1, 1]\n",
            "[88, 20, 4, 4]\n",
            "[119, 19, 1, 1]\n",
            "[110, 19, 9, 4]\n",
            "[119, 17, 1, 1]\n",
            "[244, 14, 2, 1]\n",
            "[86, 9, 3, 6]\n",
            "[336, 8, 2, 1]\n",
            "[362, 7, 3, 4]\n",
            "[70, 7, 1, 1]\n",
            "[197, 6, 1, 1]\n",
            "[135, 6, 1, 1]\n",
            "[331, 5, 1, 1]\n",
            "[197, 3, 1, 1]\n",
            "[156, 3, 1, 1]\n",
            "[137, 3, 37, 40]\n",
            "[158, 32, 5, 8]\n",
            "[166, 28, 5, 5]\n",
            "[70, 3, 1, 1]\n",
            "[11, 3, 1, 1]\n",
            "[144, 2, 1, 1]\n",
            "[196, 1, 1, 1]\n",
            "[169, 1, 26, 22]\n",
            "[174, 9, 6, 6]\n",
            "[155, 1, 1, 1]\n",
            "[147, 1, 4, 1]\n",
            "[92, 1, 4, 1]\n",
            "[306, 0, 17, 18]\n",
            "[304, 0, 1, 1]\n",
            "[220, 0, 33, 19]\n",
            "[240, 3, 6, 7]\n",
            "[128, 0, 11, 3]\n",
            "[5, 0, 70, 51]\n",
            "[2, 0, 9, 8]\n"
          ]
        }
      ]
    }
  ]
}